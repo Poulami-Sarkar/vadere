{
 "cells": [
  {
   "cell_type": "markdown",
   "metadata": {
    "toc": true
   },
   "source": [
    "<h1>Table of Contents<span class=\"tocSkip\"></span></h1>\n",
    "<div class=\"toc\"><ul class=\"toc-item\"></ul></div>"
   ]
  },
  {
   "cell_type": "code",
   "execution_count": 1,
   "metadata": {},
   "outputs": [],
   "source": [
    "# imports\n",
    "import numpy as np\n",
    "import pandas as pd\n",
    "import matplotlib.pyplot as matplot\n",
    "import itertools\n",
    "import math\n",
    "import sys\n",
    "import os\n",
    "\n",
    "module_path = os.path.abspath(os.path.join('../python/python_src_preprocessing/src'))\n",
    "\n",
    "if module_path not in sys.path:\n",
    "    sys.path.append(module_path)\n",
    "\n",
    "import utils\n",
    "    \n",
    "from rf.regression import multiple_forests as multiple\n",
    "\n",
    "from utils.reader.densitymap import load_directory\n",
    "from tqdm import tqdm_notebook, tqdm\n",
    "from ipywidgets import *\n",
    "\n",
    "%load_ext autoreload\n",
    "%autoreload 1\n",
    "%aimport utils.reader.densitymap, rf.regression\n",
    "%matplotlib notebook"
   ]
  },
  {
   "cell_type": "code",
   "execution_count": 2,
   "metadata": {},
   "outputs": [],
   "source": [
    "# setup\n",
    "simulation = 'check/csvs/obstacle/'\n",
    "experiment = 'check/csvs/experiment/'\n",
    "\n",
    "number_of_targets = 3"
   ]
  },
  {
   "cell_type": "code",
   "execution_count": 12,
   "metadata": {
    "scrolled": false
   },
   "outputs": [
    {
     "name": "stderr",
     "output_type": "stream",
     "text": [
      "Loading directory check/csvs/obstacle/: 100%|██████████| 21/21 [00:01<00:00, 12.96it/s]\n",
      "Loading directory check/csvs/experiment/: 100%|██████████| 7/7 [00:01<00:00,  5.58it/s]\n"
     ]
    }
   ],
   "source": [
    "# load training (simulation data)\n",
    "train = load_directory(simulation, number_of_targets, file_filter=lambda x: 'reduced' in x)\n",
    "\n",
    "# load test (experiment data)\n",
    "test = load_directory(experiment, number_of_targets, file_filter=lambda x: 'filtered' in x)"
   ]
  },
  {
   "cell_type": "code",
   "execution_count": null,
   "metadata": {
    "scrolled": true
   },
   "outputs": [],
   "source": [
    "display(train[1])"
   ]
  },
  {
   "cell_type": "code",
   "execution_count": 15,
   "metadata": {},
   "outputs": [
    {
     "name": "stderr",
     "output_type": "stream",
     "text": [
      "Learning targets: 100%|██████████| 3/3 [02:21<00:00, 36.22s/it]\n"
     ]
    }
   ],
   "source": [
    "# run\n",
    "regressors, \\\n",
    "normed_prediction, \\\n",
    "(score_training, score_test, score_oob), \\\n",
    "errors = multiple( \\\n",
    "    {'samples': train[0], 'targets': train[1]}, \\\n",
    "    {'samples': test[0], 'targets': test[1]}, \\\n",
    "    number_of_trees=50)"
   ]
  },
  {
   "cell_type": "code",
   "execution_count": 16,
   "metadata": {},
   "outputs": [
    {
     "data": {
      "text/plain": [
       "{'euklid': {'mean': 0.75328100592693,\n",
       "  'std': 0.27087667570762064,\n",
       "  'percent': 53.265010742995614},\n",
       " 'mean_abs_error': array([0.45018219, 0.19713929, 0.49654198]),\n",
       " 'mean_error': array([-0.45018219, -0.04635979,  0.49654198]),\n",
       " 'rmse': array([0.54289278, 0.26949628, 0.52292029])}"
      ]
     },
     "metadata": {},
     "output_type": "display_data"
    }
   ],
   "source": [
    "display(errors)"
   ]
  },
  {
   "cell_type": "code",
   "execution_count": 21,
   "metadata": {
    "scrolled": false
   },
   "outputs": [
    {
     "name": "stderr",
     "output_type": "stream",
     "text": [
      "INFO - my_experiment - Running command 'main'\n",
      "INFO - my_experiment - Started run with ID \"2\"\n",
      "INFO - main - {'seed': 662360225, 'reader': {'densitymap': {'seperator': ';', 'file_filter': <function <lambda> at 0x7f69a4b09378>}}}\n",
      "Loading directory check/csvs/obstacle/: 100%|██████████| 21/21 [00:01<00:00, 13.36it/s]\n",
      "Loading directory check/csvs/experiment/: 100%|██████████| 7/7 [00:01<00:00,  5.63it/s]\n",
      "INFO - my_experiment - Completed after 0:00:03\n"
     ]
    }
   ],
   "source": [
    "from utils.reader.densitymap import ingredient as density_ingredient, load_directory\n",
    "from sacred import Experiment\n",
    "from sacred.observers import FileStorageObserver\n",
    "\n",
    "%aimport utils.reader.densitymap\n",
    "\n",
    "ex = Experiment('my_experiment', ingredients=[density_ingredient], interactive=True)\n",
    "\n",
    "ex.observers.append(FileStorageObserver.create('check/runs'))\n",
    "\n",
    "@ex.main\n",
    "def main(_run, _log):\n",
    "    _log.info(_run.config)\n",
    "    # load training (simulation data)\n",
    "    train = load_directory(simulation, number_of_targets, file_filter=lambda x: 'reduced' in x)\n",
    "\n",
    "    # load test (experiment data)\n",
    "    test = load_directory(experiment, number_of_targets, file_filter=lambda x: 'filtered' in x)\n",
    "    \n",
    "result = ex.run()"
   ]
  },
  {
   "cell_type": "code",
   "execution_count": 6,
   "metadata": {},
   "outputs": [
    {
     "name": "stdout",
     "output_type": "stream",
     "text": [
      "{}\n"
     ]
    }
   ],
   "source": [
    "print(result.info)"
   ]
  },
  {
   "cell_type": "code",
   "execution_count": null,
   "metadata": {},
   "outputs": [],
   "source": []
  }
 ],
 "metadata": {
  "kernelspec": {
   "display_name": "Python 3",
   "language": "python",
   "name": "python3"
  },
  "language_info": {
   "codemirror_mode": {
    "name": "ipython",
    "version": 3
   },
   "file_extension": ".py",
   "mimetype": "text/x-python",
   "name": "python",
   "nbconvert_exporter": "python",
   "pygments_lexer": "ipython3",
   "version": "3.7.3"
  },
  "toc": {
   "base_numbering": 1,
   "nav_menu": {},
   "number_sections": true,
   "sideBar": true,
   "skip_h1_title": false,
   "title_cell": "Table of Contents",
   "title_sidebar": "Contents",
   "toc_cell": true,
   "toc_position": {},
   "toc_section_display": true,
   "toc_window_display": false
  }
 },
 "nbformat": 4,
 "nbformat_minor": 2
}

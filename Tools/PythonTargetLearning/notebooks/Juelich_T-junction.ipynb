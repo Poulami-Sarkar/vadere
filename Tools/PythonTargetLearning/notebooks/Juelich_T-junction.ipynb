{
 "cells": [
  {
   "cell_type": "code",
   "execution_count": 15,
   "metadata": {},
   "outputs": [],
   "source": [
    "import numpy as np\n",
    "import pandas as pd\n",
    "import matplotlib.pyplot as matplot\n",
    "import itertools\n",
    "from os import listdir\n",
    "from os.path import join"
   ]
  },
  {
   "cell_type": "code",
   "execution_count": 66,
   "metadata": {},
   "outputs": [],
   "source": [
    "data_path = 'juelich/KO/'\n",
    "experiments = [\n",
    "    'ko-240-050-240',\n",
    "    'ko-240-060-240',\n",
    "    'ko-240-080-240',\n",
    "    'ko-240-100-240',\n",
    "    'ko-240-120-240',\n",
    "    'ko-240-150-240',\n",
    "    'ko-240-240-240',\n",
    "    'ko-300-050-300',\n",
    "    'ko-300-080-300',\n",
    "    'ko-300-120-300',\n",
    "    'ko-300-150-300'\n",
    "];"
   ]
  },
  {
   "cell_type": "code",
   "execution_count": 56,
   "metadata": {},
   "outputs": [],
   "source": [
    "def load(folders, key):\n",
    "    frames = []\n",
    "    for folder in folders:\n",
    "        files = list(filter(lambda file: key in file, listdir(join(data_path, folder))))\n",
    "        for file in files:\n",
    "            data = pd.read_csv(join(data_path, folder, file), sep=' ', names=['p-id', 'timestep', 'x', 'y', 'e'], index_col=False, header=None, skiprows=0)\n",
    "            frames.append((file, data))\n",
    "            \n",
    "    return frames"
   ]
  },
  {
   "cell_type": "code",
   "execution_count": 75,
   "metadata": {},
   "outputs": [],
   "source": [
    "def extract_observation_area(df, area):\n",
    "    x_meas = area[0]\n",
    "    y_meas = area[1]\n",
    "    width = area[2]\n",
    "    height = area[3]\n",
    "    \n",
    "    \n",
    "    # males = df[(df[Gender]=='Male') & (df[Year]==2014)]\n",
    "    is_x = (df['x'] >= x_meas) & (df['x'] <= (x_meas + width))\n",
    "    is_y = (df['y'] >= y_meas) & (df['y'] <= (y_meas + height))\n",
    "    row_obs_area = df[is_x & is_y]\n",
    "    # row_obs_area = ([row for index, row in df.iterrows() if (x_meas <= row['x'] <= (x_meas + width)) and\n",
    "    #        (y_meas <= row['y'] <= (y_meas + height))])\n",
    "    # if len(row_obs_area) == 0: # empty\n",
    "    #    raise ValueError('** Check observation area! No pedestrians have stepped in the observation area**')\n",
    "\n",
    "    return row_obs_area"
   ]
  },
  {
   "cell_type": "code",
   "execution_count": 136,
   "metadata": {},
   "outputs": [],
   "source": [
    "def getTargetPercentiles(peds, targets):\n",
    "    if len(peds)== 0:\n",
    "        return None\n",
    "    \n",
    "    all_targets = np.unique(list(targets.values()))\n",
    "    \n",
    "    ids = list(peds['p-id'])\n",
    "    total = len(ids)\n",
    "    \n",
    "    filtered_dict = {k:v for k,v in targets.items() if k in ids}\n",
    "    used_targets = filtered_dict.values()\n",
    "    \n",
    "    # print(filtered_dict)\n",
    "    # print(itertools.groupby(sorted(filtered_dict.values())))\n",
    "    percentiles = {k:(len(list(v)) / total) for k, v in itertools.groupby(sorted(used_targets))}\n",
    "    \n",
    "    for k in all_targets:\n",
    "        if k not in used_targets:\n",
    "            percentiles[k] = 0.0\n",
    "    \n",
    "    return percentiles"
   ]
  },
  {
   "cell_type": "code",
   "execution_count": 117,
   "metadata": {},
   "outputs": [],
   "source": [
    "frames = load(experiments, 'combined')\n",
    "obs_area = [-240, 300, 240, 100]"
   ]
  },
  {
   "cell_type": "code",
   "execution_count": 161,
   "metadata": {},
   "outputs": [],
   "source": [
    "all_percentiles = pd.DataFrame(columns=['A', 'B'])\n",
    "pedsPerStep = pd.DataFrame(columns=['#peds'])\n",
    "for experiment, frame in frames:\n",
    "    pId2Target = dict.fromkeys(list(frame['p-id'].unique()))\n",
    "    \n",
    "    # fig, ax = matplot.subplots()\n",
    "    \n",
    "    # map p-ids to targets\n",
    "    ex = []\n",
    "    for pId, group in frame.groupby('p-id'):\n",
    "        # ax.plot(group['x'], group['y'])\n",
    "        ex.append(group['x'].iloc[-1])\n",
    "        pId2Target[pId] = ('B' if group['x'].iloc[0] < 0 else 'A')\n",
    "    \n",
    "    # ax.grid()\n",
    "    \n",
    "    # extract #-of peds in observation area\n",
    "    for timestep, group in frame.groupby('timestep'):\n",
    "        peds = extract_observation_area(group, obs_area)\n",
    "        \n",
    "        percentiles = getTargetPercentiles(peds, pId2Target)\n",
    "        all_percentiles = all_percentiles.append(percentiles, ignore_index=True)\n",
    "        \n",
    "        pedsPerStep = pedsPerStep.append({'#peds': len(peds) }, ignore_index=True)\n",
    "    "
   ]
  },
  {
   "cell_type": "code",
   "execution_count": 163,
   "metadata": {},
   "outputs": [],
   "source": [
    "a = pedsPerStep.groupby(['#peds'], as_index=False).size().to_frame('#frames').reset_index()\n",
    "b = all_percentiles.groupby(['A', 'B'], as_index=False).size().to_frame('frames').reset_index()\n",
    "\n",
    "a.to_csv('juelich/number-of-peds-per-frame.csv', index=False)\n",
    "b.to_csv('juelich/percentiles.csv', index=False)"
   ]
  },
  {
   "cell_type": "code",
   "execution_count": null,
   "metadata": {},
   "outputs": [],
   "source": []
  }
 ],
 "metadata": {
  "kernelspec": {
   "display_name": "Python 3",
   "language": "python",
   "name": "python3"
  },
  "language_info": {
   "codemirror_mode": {
    "name": "ipython",
    "version": 3
   },
   "file_extension": ".py",
   "mimetype": "text/x-python",
   "name": "python",
   "nbconvert_exporter": "python",
   "pygments_lexer": "ipython3",
   "version": "3.7.1"
  }
 },
 "nbformat": 4,
 "nbformat_minor": 2
}

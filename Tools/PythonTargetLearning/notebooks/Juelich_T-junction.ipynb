{
 "cells": [
  {
   "cell_type": "code",
   "execution_count": 1,
   "metadata": {},
   "outputs": [],
   "source": [
    "import numpy as np\n",
    "import pandas as pd\n",
    "import matplotlib.pyplot as matplot\n",
    "import itertools\n",
    "\n",
    "from tqdm import tqdm_notebook, tqdm\n",
    "from os import listdir\n",
    "from os.path import join\n",
    "from ipywidgets import *\n",
    "\n",
    "%matplotlib notebook"
   ]
  },
  {
   "cell_type": "code",
   "execution_count": 2,
   "metadata": {},
   "outputs": [],
   "source": [
    "import sys\n",
    "module_path = os.path.abspath(os.path.join('../python/python_src_preprocessing/src'))\n",
    "if module_path not in sys.path:\n",
    "    sys.path.append(module_path)"
   ]
  },
  {
   "cell_type": "code",
   "execution_count": 3,
   "metadata": {},
   "outputs": [],
   "source": [
    "import utils.writer.density as density"
   ]
  },
  {
   "cell_type": "code",
   "execution_count": 19,
   "metadata": {},
   "outputs": [],
   "source": [
    "def log(*args, ON=False):\n",
    "    if ON:\n",
    "        print(*args)\n",
    "\n",
    "def load_experiment(folder, key):\n",
    "    files = list(filter(lambda file: key in file, listdir(folder)))\n",
    "    \n",
    "    frames = []\n",
    "    for file in files:\n",
    "        data = pd.read_csv(\n",
    "            join(folder, file), \n",
    "            sep=' ', \n",
    "            names=['p-id', 'timestep', 'x', 'y', 'e'], \n",
    "            index_col=False, \n",
    "            header=None, \n",
    "            skiprows=0)\n",
    "        \n",
    "        data['x'] = data['x'] / 100\n",
    "        data['y'] = data['y'] / 100\n",
    "        \n",
    "        frames.append((file, data))\n",
    "        \n",
    "    return frames\n",
    "    \n",
    "def load_multiple(path, folders, key):\n",
    "    frames = []\n",
    "    for folder in folders:\n",
    "        frames.extend(load_experiment(join(path, folder), key))\n",
    "            \n",
    "    return frames"
   ]
  },
  {
   "cell_type": "code",
   "execution_count": 20,
   "metadata": {},
   "outputs": [],
   "source": [
    "def plot_experiment(frame, title):\n",
    "    fig, ax = matplot.subplots()\n",
    "    ax.set_title(title)\n",
    "    \n",
    "    # map p-ids to targets\n",
    "    for pId, group in frame.groupby('p-id'):\n",
    "        ax.plot(group['x'], group['y'])\n",
    "    \n",
    "    ax.grid()"
   ]
  },
  {
   "cell_type": "code",
   "execution_count": 6,
   "metadata": {},
   "outputs": [],
   "source": [
    "def extract_observation_area(frame, area):\n",
    "    is_x = (frame['x'] >= area[0]) & (frame['x'] <= (area[0] + area[2]))\n",
    "    is_y = (frame['y'] >= area[1]) & (frame['y'] <= (area[1] + area[3]))\n",
    "    return frame[is_x & is_y]"
   ]
  },
  {
   "cell_type": "code",
   "execution_count": 21,
   "metadata": {},
   "outputs": [],
   "source": [
    "def get_target_percentiles(pedestrians, ped2target, targets):\n",
    "    if len(pedestrians)== 0:\n",
    "        return None\n",
    "    \n",
    "    ids = list(pedestrians['p-id'])\n",
    "    total = len(ids)\n",
    "    \n",
    "    filtered_dict = {k:v for k,v in ped2target.items() if k in ids}\n",
    "    used_targets = filtered_dict.values()\n",
    "    \n",
    "    percentiles = {k:(len(list(v)) / total) for k, v in itertools.groupby(sorted(used_targets))}\n",
    "    \n",
    "    for k in targets:\n",
    "        if k not in used_targets:\n",
    "            percentiles[k] = 0.0\n",
    "    \n",
    "    return percentiles"
   ]
  },
  {
   "cell_type": "code",
   "execution_count": 23,
   "metadata": {},
   "outputs": [],
   "source": [
    "def get_gaussian_grid(gauss_bound, resolution, sigma, ped_pos, radius):\n",
    "    x = np.arange(-gauss_bound, gauss_bound + resolution, resolution) # gives gauss_bound_start:resolution:gauss_bound_stop\n",
    "    y = np.arange(-gauss_bound, gauss_bound + resolution, resolution) # gives gauss_bound_start:resolution:gauss_bound_stop\n",
    "    \n",
    "    xx, yy = np.meshgrid(x, y, sparse=False) # Make all grid points (based on resolution) in [gauss_bound_start, gauss_bound_stop] (2-dim-array)\n",
    "    \n",
    "    log(np.max(xx), np.max(yy))\n",
    "    \n",
    "    grid = np.square(xx-ped_pos[0]) + np.square(yy-ped_pos[1]) # distance to the origin of the observation area\n",
    "    \n",
    "    log(grid.shape, np.max(grid))\n",
    "    \n",
    "    gauss = np.vectorize(gaussian_pdf)\n",
    "\n",
    "    gauss_grid = gauss(sigma, grid, radius)\n",
    "    \n",
    "    return gauss_grid\n",
    "\n",
    "\n",
    "def gaussian_pdf(sigma, x, radius ):\n",
    "    zaehler = ((radius*2)**2)*np.sqrt(3)/2  # S_p\n",
    "    nenner = (2*np.pi*sigma**2)\n",
    "\n",
    "    normalization_factor = np.sqrt(zaehler/nenner)\n",
    "    individual_density = normalization_factor * np.exp(-x / (2 * np.square(sigma)))\n",
    "\n",
    "    return normalization_factor*individual_density\n",
    "\n",
    "\n",
    "def add_pedestrian_to_field(ped, matrix, area, resolution, gauss_density_bound, sigma, radius, general_density_matrix):\n",
    "    \n",
    "    if general_density_matrix is None: # not None\n",
    "        bool_individual_position = True\n",
    "    else:\n",
    "        bool_individual_position = False\n",
    "\n",
    "    # calculate the density for one ped and add to matrix\n",
    "    size = int(gauss_density_bound * 2 / resolution + 1)\n",
    "    radius = int(size / 2) # equal to gauss_density_bound/resolution\n",
    "    log('size', size, 'radius', radius)\n",
    "    \n",
    "    origin_x = area[0]\n",
    "    origin_y = area[1]\n",
    "    log('origin x', origin_x, 'origin y', origin_y)\n",
    "    \n",
    "    width = int(area[2] / resolution)\n",
    "    height = int(area[3] / resolution)\n",
    "    log('width', width, 'height', height)\n",
    "    \n",
    "    \n",
    "    # necessary to map to center of the grid instead of the edge!\n",
    "    offset = resolution / 2\n",
    "    log('offset', offset)\n",
    "    \n",
    "    \n",
    "    # find grid cell of pedestrian in observation area\n",
    "    diff_x = int(np.round((ped['x'] - origin_x - offset) / resolution, 0))\n",
    "    diff_y = int(np.round((ped['y'] - origin_y - offset) / resolution, 0))\n",
    "\n",
    "    log('diff x', diff_x, 'diff y', diff_y)\n",
    "    \n",
    "    # area in which the pedestrian has an influence on the pedestrian density\n",
    "    left_bound = int(max(0, diff_x - radius))\n",
    "    right_bound = int(min(diff_x + radius, width - 1))\n",
    "    upper_bound = int(min(diff_y + radius, height - 1))\n",
    "    lower_bound = int(max(0, diff_y - radius))\n",
    "    \n",
    "    log('left', left_bound, 'right', right_bound)\n",
    "    log('upper', upper_bound, 'lower', lower_bound)\n",
    "\n",
    "    ## create density_field\n",
    "    # position of pedestrian relative to center of grid cell\n",
    "    grid_points_x = np.arange(origin_x+offset, origin_x + area[2] + resolution, resolution) # gives gauss_bound_start:resolution:gauss_bound_stop\n",
    "    grid_points_y = np.arange(origin_y+offset, origin_y + area[3] + resolution, resolution)\n",
    "\n",
    "    # center of cell in which the pedestrian is located\n",
    "    grid_point_x = grid_points_x[diff_x]\n",
    "    grid_point_y = grid_points_y[diff_y]\n",
    "\n",
    "    ped_pos_rel_x = ped['x'] - grid_point_x\n",
    "    ped_pos_rel_y = ped['y'] - grid_point_y\n",
    "\n",
    "    # Position of pedestrian relative to cell center\n",
    "    ped_pos_rel = np.array([ped_pos_rel_x, ped_pos_rel_y])\n",
    "\n",
    "    log(bool_individual_position)\n",
    "    \n",
    "    if bool_individual_position:\n",
    "        density_field = get_gaussian_grid(gauss_density_bound, resolution, sigma, ped_pos_rel, radius)\n",
    "    else:\n",
    "        density_field = general_density_matrix\n",
    "\n",
    "    log(np.max(density_field))\n",
    "    # log(density_field)\n",
    "        \n",
    "    # cutout of density field that is within the camera cutout\n",
    "    left_bound_field = max(0, radius - diff_x)\n",
    "    right_bound_field = left_bound_field + right_bound - left_bound\n",
    "\n",
    "    lower_bound_field = max(0, radius - diff_y)\n",
    "    upper_bound_field = lower_bound_field + upper_bound - lower_bound\n",
    "\n",
    "    matrix[lower_bound:upper_bound+1, left_bound:right_bound+1] = matrix[lower_bound:upper_bound+1, left_bound:right_bound+1] + \\\n",
    "    density_field[lower_bound_field:upper_bound_field+1, left_bound_field:right_bound_field+1]\n",
    "\n",
    "    return matrix\n",
    "    \n",
    "\n",
    "def get_density_field(pedestrians, context):\n",
    "    density_field = context.get('density_field', None)\n",
    "    \n",
    "    size = context.get('size', (0, 0))\n",
    "    \n",
    "    density_approx = np.zeros(size)\n",
    "    ped_list = np.zeros([len(pedestrians),2])\n",
    "    \n",
    "    idx = 0\n",
    "    for _, pedestrian in pedestrians.iterrows():\n",
    "        density_approx = add_pedestrian_to_field(\n",
    "            pedestrian, \n",
    "            density_approx, \n",
    "            context.get('area', None), \n",
    "            context.get('resolution', 1), \n",
    "            context.get('gauss_bounds', 10), \n",
    "            context.get('sigma', 0.7),\n",
    "            context.get('pedestrian_radius', 0.4),\n",
    "            density_field)\n",
    "\n",
    "        ped_list[idx,:] = [pedestrian['x'], pedestrian['y']]\n",
    "        idx += 1\n",
    "        \n",
    "\n",
    "    return density_approx"
   ]
  },
  {
   "cell_type": "code",
   "execution_count": 24,
   "metadata": {},
   "outputs": [],
   "source": [
    "def process_percentiles(pedestrians, percentiles, density, context):\n",
    "    data = context.get('percentiles', None)\n",
    "    \n",
    "    # create dataframe if not yet available\n",
    "    if data is None:\n",
    "        data = pd.DataFrame(columns=context.get('targets'))\n",
    "    \n",
    "    context['percentiles'] = data.append(percentiles, ignore_index=True)\n",
    "    \n",
    "    return context\n",
    "\n",
    "    \n",
    "def process_peds_per_step(pedestrians, percentiles, density, context):\n",
    "    data = context.get('pedestrians', None)\n",
    "    \n",
    "    # create dataframe if not yet available\n",
    "    if data is None:\n",
    "        data = pd.DataFrame(columns=['#peds'])\n",
    "        \n",
    "    context['pedestrians'] = data.append({'#peds': len(peds) }, ignore_index=True)\n",
    "    \n",
    "    return context\n",
    "    \n",
    "    \n",
    "def process_densities(pedestrians, percentiles, density, context):\n",
    "    data = context.get('densities', None)\n",
    "    \n",
    "    # create dataframe if not yet available\n",
    "    if data is None:\n",
    "        data = []\n",
    "        context['densities'] = data\n",
    "    \n",
    "    distribution = [percentiles[key] for key in sorted(percentiles.keys())]\n",
    "    data.append(np.concatenate((density.flatten(), distribution), axis=None))\n",
    "    \n",
    "    return context\n",
    "\n",
    "    \n",
    "def process_experiment(experiment, context):\n",
    "    name = context.get('name', '')\n",
    "    \n",
    "    processors = context.get('processors', None)\n",
    "    if processors is None or type(processors) != list:\n",
    "        processors = []\n",
    "    \n",
    "    pId2Target = dict.fromkeys(list(frame['p-id'].unique()))\n",
    "    \n",
    "    # map p-ids to targets\n",
    "    for pId, group in frame.groupby('p-id'):\n",
    "        pId2Target[pId] = ('B' if group['x'].iloc[0] < 0 else 'A')\n",
    "    \n",
    "    if not context.get('exact', False):\n",
    "        context['density_field'] = get_gaussian_grid(\n",
    "            context.get('gauss_bounds', 0),\n",
    "            context.get('resolution', 1),\n",
    "            context.get('sigma', 1),\n",
    "            [0, 0])\n",
    "    \n",
    "    area = context.get('area')\n",
    "    resolution = context.get('resolution')\n",
    "    \n",
    "    size = (int(area[3]/ resolution), int(area[2] / resolution))\n",
    "    context['size'] = size\n",
    "    \n",
    "    flag = True\n",
    "    \n",
    "    # extract #-of peds in observation area\n",
    "    for timestep, trajectories in tqdm_notebook(frame.groupby('timestep'), desc=name, unit=' timestep'):\n",
    "        pedestrians = extract_observation_area(trajectories, area)\n",
    "        \n",
    "        # skip if empty area\n",
    "        if len(pedestrians) == 0:\n",
    "            continue\n",
    "            \n",
    "        percentiles = get_target_percentiles(pedestrians, pId2Target, context.get('targets', ['A', 'B']))\n",
    "        \n",
    "        if percentiles['A'] == 0.5 and percentiles['B'] == 0.5:\n",
    "            flag = not(flag)\n",
    "            if flag:\n",
    "                continue\n",
    "            \n",
    "        \n",
    "        density = get_density_field(pedestrians, context)\n",
    "        \n",
    "        # execute processors\n",
    "        for processor in processors:\n",
    "            context = processor(pedestrians, percentiles, density, context)\n",
    "        \n",
    "        \n",
    "    return context"
   ]
  },
  {
   "cell_type": "code",
   "execution_count": 25,
   "metadata": {},
   "outputs": [],
   "source": [
    "input_path = 'juelich/KO/'\n",
    "output_path = 'juelich/output/'\n",
    "experiments = [\n",
    "    'ko-240-050-240',\n",
    "    'ko-240-060-240',\n",
    "    'ko-240-080-240',\n",
    "    'ko-240-100-240',\n",
    "    'ko-240-120-240',\n",
    "    'ko-240-150-240',\n",
    "    'ko-240-240-240',\n",
    "    'ko-300-050-300',\n",
    "    'ko-300-080-300',\n",
    "    'ko-300-120-300',\n",
    "    'ko-300-150-300'\n",
    "]\n",
    "\n",
    "frames = load_multiple(input_path, experiments, 'combined')"
   ]
  },
  {
   "cell_type": "code",
   "execution_count": 26,
   "metadata": {},
   "outputs": [
    {
     "data": {
      "application/vnd.jupyter.widget-view+json": {
       "model_id": "50f6207e7d6a4b8ca239d0501670afe6",
       "version_major": 2,
       "version_minor": 0
      },
      "text/plain": [
       "HBox(children=(IntProgress(value=0, description='process files', max=11, style=ProgressStyle(description_width…"
      ]
     },
     "metadata": {},
     "output_type": "display_data"
    },
    {
     "data": {
      "application/vnd.jupyter.widget-view+json": {
       "model_id": "d567066f775c4e4d990d98437d79ec30",
       "version_major": 2,
       "version_minor": 0
      },
      "text/plain": [
       "HBox(children=(IntProgress(value=0, description='ko-240-050-240_combined_MB', max=1000, style=ProgressStyle(de…"
      ]
     },
     "metadata": {},
     "output_type": "display_data"
    },
    {
     "data": {
      "application/vnd.jupyter.widget-view+json": {
       "model_id": "9f1691a8fff240bcb13534151702f924",
       "version_major": 2,
       "version_minor": 0
      },
      "text/plain": [
       "HBox(children=(IntProgress(value=0, description='ko-240-060-240_combined_MB', max=942, style=ProgressStyle(des…"
      ]
     },
     "metadata": {},
     "output_type": "display_data"
    },
    {
     "data": {
      "application/vnd.jupyter.widget-view+json": {
       "model_id": "137f0afae49f48a8aa6e9c289d897c55",
       "version_major": 2,
       "version_minor": 0
      },
      "text/plain": [
       "HBox(children=(IntProgress(value=0, description='ko-240-080-240_combined_MB', max=1157, style=ProgressStyle(de…"
      ]
     },
     "metadata": {},
     "output_type": "display_data"
    },
    {
     "data": {
      "application/vnd.jupyter.widget-view+json": {
       "model_id": "5920f85988404e7b827532e70e134679",
       "version_major": 2,
       "version_minor": 0
      },
      "text/plain": [
       "HBox(children=(IntProgress(value=0, description='ko-240-100-240_combined_MB', max=1033, style=ProgressStyle(de…"
      ]
     },
     "metadata": {},
     "output_type": "display_data"
    },
    {
     "data": {
      "application/vnd.jupyter.widget-view+json": {
       "model_id": "0d1a1fe87b544437955f3d5980cd267b",
       "version_major": 2,
       "version_minor": 0
      },
      "text/plain": [
       "HBox(children=(IntProgress(value=0, description='ko-240-120-240_combined_MB', max=1511, style=ProgressStyle(de…"
      ]
     },
     "metadata": {},
     "output_type": "display_data"
    },
    {
     "data": {
      "application/vnd.jupyter.widget-view+json": {
       "model_id": "c4638f6552364e089357e670c9d9a4b8",
       "version_major": 2,
       "version_minor": 0
      },
      "text/plain": [
       "HBox(children=(IntProgress(value=0, description='ko-240-150-240_combined_MB', max=1426, style=ProgressStyle(de…"
      ]
     },
     "metadata": {},
     "output_type": "display_data"
    },
    {
     "data": {
      "application/vnd.jupyter.widget-view+json": {
       "model_id": "036bdb0e1f2c4345a5cf7749e02627ff",
       "version_major": 2,
       "version_minor": 0
      },
      "text/plain": [
       "HBox(children=(IntProgress(value=0, description='ko-240-240-240_combined_MB', max=1414, style=ProgressStyle(de…"
      ]
     },
     "metadata": {},
     "output_type": "display_data"
    },
    {
     "data": {
      "application/vnd.jupyter.widget-view+json": {
       "model_id": "23716de3f63b4be8a6b7e6458b82699f",
       "version_major": 2,
       "version_minor": 0
      },
      "text/plain": [
       "HBox(children=(IntProgress(value=0, description='ko-300-050-300_combined_MB', max=1111, style=ProgressStyle(de…"
      ]
     },
     "metadata": {},
     "output_type": "display_data"
    },
    {
     "data": {
      "application/vnd.jupyter.widget-view+json": {
       "model_id": "efd622e3c8ba400988d9118805d0a2de",
       "version_major": 2,
       "version_minor": 0
      },
      "text/plain": [
       "HBox(children=(IntProgress(value=0, description='ko-300-080-300_combined_MB', max=1112, style=ProgressStyle(de…"
      ]
     },
     "metadata": {},
     "output_type": "display_data"
    },
    {
     "data": {
      "application/vnd.jupyter.widget-view+json": {
       "model_id": "127e09a44c1543edaa8ec161c40fa8d6",
       "version_major": 2,
       "version_minor": 0
      },
      "text/plain": [
       "HBox(children=(IntProgress(value=0, description='ko-300-120-300_combined_MB', max=1269, style=ProgressStyle(de…"
      ]
     },
     "metadata": {},
     "output_type": "display_data"
    },
    {
     "data": {
      "application/vnd.jupyter.widget-view+json": {
       "model_id": "7ebbbacc3d804a8b9b12489303278a92",
       "version_major": 2,
       "version_minor": 0
      },
      "text/plain": [
       "HBox(children=(IntProgress(value=0, description='ko-300-150-300_combined_MB', max=1240, style=ProgressStyle(de…"
      ]
     },
     "metadata": {},
     "output_type": "display_data"
    },
    {
     "name": "stdout",
     "output_type": "stream",
     "text": [
      "\n"
     ]
    }
   ],
   "source": [
    "results = []\n",
    "for experiment, frame in tqdm_notebook(frames, desc='process files'):\n",
    "    # plot_experiment(frame, experiment)\n",
    "    context = dict({\n",
    "        'name': experiment[:experiment.index('.')],\n",
    "        'targets': ['A', 'B', 'C'],\n",
    "        'area':  [-2.4, 3, 2.4, 1],\n",
    "        'exact': True,\n",
    "        'sigma': 0.14,\n",
    "        'resolution': 0.1,\n",
    "        'pedastrian_radius': 0.4,\n",
    "        'gauss_bounds': 1,\n",
    "        'processors': [\n",
    "            processPercentiles,\n",
    "            processDensities\n",
    "        ]\n",
    "    })\n",
    "    context = process_experiment(frame, context)\n",
    "    results.append(context)\n",
    "    "
   ]
  },
  {
   "cell_type": "code",
   "execution_count": 27,
   "metadata": {},
   "outputs": [
    {
     "data": {
      "text/html": [
       "<div>\n",
       "<style scoped>\n",
       "    .dataframe tbody tr th:only-of-type {\n",
       "        vertical-align: middle;\n",
       "    }\n",
       "\n",
       "    .dataframe tbody tr th {\n",
       "        vertical-align: top;\n",
       "    }\n",
       "\n",
       "    .dataframe thead th {\n",
       "        text-align: right;\n",
       "    }\n",
       "</style>\n",
       "<table border=\"1\" class=\"dataframe\">\n",
       "  <thead>\n",
       "    <tr style=\"text-align: right;\">\n",
       "      <th></th>\n",
       "      <th>A</th>\n",
       "      <th>B</th>\n",
       "      <th>C</th>\n",
       "      <th>frames</th>\n",
       "    </tr>\n",
       "  </thead>\n",
       "  <tbody>\n",
       "    <tr>\n",
       "      <th>0</th>\n",
       "      <td>0.000000</td>\n",
       "      <td>1.000000</td>\n",
       "      <td>0.0</td>\n",
       "      <td>2085</td>\n",
       "    </tr>\n",
       "    <tr>\n",
       "      <th>1</th>\n",
       "      <td>0.166667</td>\n",
       "      <td>0.833333</td>\n",
       "      <td>0.0</td>\n",
       "      <td>11</td>\n",
       "    </tr>\n",
       "    <tr>\n",
       "      <th>2</th>\n",
       "      <td>0.200000</td>\n",
       "      <td>0.800000</td>\n",
       "      <td>0.0</td>\n",
       "      <td>54</td>\n",
       "    </tr>\n",
       "    <tr>\n",
       "      <th>3</th>\n",
       "      <td>0.250000</td>\n",
       "      <td>0.750000</td>\n",
       "      <td>0.0</td>\n",
       "      <td>330</td>\n",
       "    </tr>\n",
       "    <tr>\n",
       "      <th>4</th>\n",
       "      <td>0.285714</td>\n",
       "      <td>0.714286</td>\n",
       "      <td>0.0</td>\n",
       "      <td>3</td>\n",
       "    </tr>\n",
       "    <tr>\n",
       "      <th>5</th>\n",
       "      <td>0.333333</td>\n",
       "      <td>0.666667</td>\n",
       "      <td>0.0</td>\n",
       "      <td>1092</td>\n",
       "    </tr>\n",
       "    <tr>\n",
       "      <th>6</th>\n",
       "      <td>0.400000</td>\n",
       "      <td>0.600000</td>\n",
       "      <td>0.0</td>\n",
       "      <td>592</td>\n",
       "    </tr>\n",
       "    <tr>\n",
       "      <th>7</th>\n",
       "      <td>0.428571</td>\n",
       "      <td>0.571429</td>\n",
       "      <td>0.0</td>\n",
       "      <td>27</td>\n",
       "    </tr>\n",
       "    <tr>\n",
       "      <th>8</th>\n",
       "      <td>0.500000</td>\n",
       "      <td>0.500000</td>\n",
       "      <td>0.0</td>\n",
       "      <td>1578</td>\n",
       "    </tr>\n",
       "    <tr>\n",
       "      <th>9</th>\n",
       "      <td>0.571429</td>\n",
       "      <td>0.428571</td>\n",
       "      <td>0.0</td>\n",
       "      <td>25</td>\n",
       "    </tr>\n",
       "    <tr>\n",
       "      <th>10</th>\n",
       "      <td>0.600000</td>\n",
       "      <td>0.400000</td>\n",
       "      <td>0.0</td>\n",
       "      <td>731</td>\n",
       "    </tr>\n",
       "    <tr>\n",
       "      <th>11</th>\n",
       "      <td>0.625000</td>\n",
       "      <td>0.375000</td>\n",
       "      <td>0.0</td>\n",
       "      <td>2</td>\n",
       "    </tr>\n",
       "    <tr>\n",
       "      <th>12</th>\n",
       "      <td>0.666667</td>\n",
       "      <td>0.333333</td>\n",
       "      <td>0.0</td>\n",
       "      <td>1346</td>\n",
       "    </tr>\n",
       "    <tr>\n",
       "      <th>13</th>\n",
       "      <td>0.714286</td>\n",
       "      <td>0.285714</td>\n",
       "      <td>0.0</td>\n",
       "      <td>5</td>\n",
       "    </tr>\n",
       "    <tr>\n",
       "      <th>14</th>\n",
       "      <td>0.750000</td>\n",
       "      <td>0.250000</td>\n",
       "      <td>0.0</td>\n",
       "      <td>698</td>\n",
       "    </tr>\n",
       "    <tr>\n",
       "      <th>15</th>\n",
       "      <td>0.800000</td>\n",
       "      <td>0.200000</td>\n",
       "      <td>0.0</td>\n",
       "      <td>123</td>\n",
       "    </tr>\n",
       "    <tr>\n",
       "      <th>16</th>\n",
       "      <td>0.833333</td>\n",
       "      <td>0.166667</td>\n",
       "      <td>0.0</td>\n",
       "      <td>10</td>\n",
       "    </tr>\n",
       "    <tr>\n",
       "      <th>17</th>\n",
       "      <td>1.000000</td>\n",
       "      <td>0.000000</td>\n",
       "      <td>0.0</td>\n",
       "      <td>1615</td>\n",
       "    </tr>\n",
       "  </tbody>\n",
       "</table>\n",
       "</div>"
      ],
      "text/plain": [
       "           A         B    C  frames\n",
       "0   0.000000  1.000000  0.0    2085\n",
       "1   0.166667  0.833333  0.0      11\n",
       "2   0.200000  0.800000  0.0      54\n",
       "3   0.250000  0.750000  0.0     330\n",
       "4   0.285714  0.714286  0.0       3\n",
       "5   0.333333  0.666667  0.0    1092\n",
       "6   0.400000  0.600000  0.0     592\n",
       "7   0.428571  0.571429  0.0      27\n",
       "8   0.500000  0.500000  0.0    1578\n",
       "9   0.571429  0.428571  0.0      25\n",
       "10  0.600000  0.400000  0.0     731\n",
       "11  0.625000  0.375000  0.0       2\n",
       "12  0.666667  0.333333  0.0    1346\n",
       "13  0.714286  0.285714  0.0       5\n",
       "14  0.750000  0.250000  0.0     698\n",
       "15  0.800000  0.200000  0.0     123\n",
       "16  0.833333  0.166667  0.0      10\n",
       "17  1.000000  0.000000  0.0    1615"
      ]
     },
     "metadata": {},
     "output_type": "display_data"
    }
   ],
   "source": [
    "percentiles = pd.concat([result['percentiles'] for result in results])\n",
    "display(percentiles.groupby(result.get('targets'), as_index=False).size().to_frame('frames').reset_index())"
   ]
  },
  {
   "cell_type": "code",
   "execution_count": 18,
   "metadata": {},
   "outputs": [
    {
     "data": {
      "application/vnd.jupyter.widget-view+json": {
       "model_id": "10617e03ace147b0b369b853bc1ef8e7",
       "version_major": 2,
       "version_minor": 0
      },
      "text/plain": [
       "HBox(children=(IntProgress(value=0, description='process results', max=11, style=ProgressStyle(description_wid…"
      ]
     },
     "metadata": {},
     "output_type": "display_data"
    },
    {
     "name": "stdout",
     "output_type": "stream",
     "text": [
      "\n"
     ]
    }
   ],
   "source": [
    "for result in tqdm_notebook(results, desc='process results'):\n",
    "    # display(result['percentiles'].groupby(result.get('targets'), as_index=False).size().to_frame('frames').reset_index())\n",
    "    \n",
    "    name = result.get('name')\n",
    "    densities = result.get('densities')\n",
    "    \n",
    "    with open(join(output_path, name + '.csv'), mode='w') as file:\n",
    "        for density in densities:\n",
    "            file.write(';'.join(map(lambda r: \"{:.10f}\".format(r), density)) + '\\n')\n",
    "        \n",
    "        file.flush()\n",
    "        \n",
    "    continue\n",
    "    \n",
    "    size = result.get('size')\n",
    "    \n",
    "    first = densities[0][:-2].reshape(size)\n",
    "    \n",
    "    fig, ax = matplot.subplots()\n",
    "    img = ax.imshow(first, interpolation='Nearest')\n",
    "    \n",
    "    ax.set_xticks(np.linspace(0, len(first[0]) - 1, 13))\n",
    "    ax.set_xticklabels([0, 0.2, 0.4, 0.6, 0.8, 1.0, 1.2, 1.4, 1.6, 1.8, 2.0, 2.2, 2.4])\n",
    "    \n",
    "    ax.set_yticks(np.linspace(0, len(first) - 1, 6))\n",
    "    ax.set_yticklabels([0, 0.2, 0.4, 0.6, 0.8, 1.0])\n",
    "    \n",
    "    def update(frame):\n",
    "        img.set_data(densities[frame][:-2].reshape(size))\n",
    "        fig.canvas.draw()\n",
    "\n",
    "    interact(update, frame=widgets.IntSlider(min=0, max=len(densities)-1, step=1, value=0));\n",
    "    \n",
    "    "
   ]
  },
  {
   "cell_type": "code",
   "execution_count": null,
   "metadata": {},
   "outputs": [],
   "source": []
  }
 ],
 "metadata": {
  "kernelspec": {
   "display_name": "Python 3",
   "language": "python",
   "name": "python3"
  },
  "language_info": {
   "codemirror_mode": {
    "name": "ipython",
    "version": 3
   },
   "file_extension": ".py",
   "mimetype": "text/x-python",
   "name": "python",
   "nbconvert_exporter": "python",
   "pygments_lexer": "ipython3",
   "version": "3.7.1"
  }
 },
 "nbformat": 4,
 "nbformat_minor": 2
}

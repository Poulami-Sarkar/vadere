{
 "cells": [
  {
   "cell_type": "markdown",
   "metadata": {},
   "source": [
    "## Split by Pedestiran Id\n",
    "\n",
    "This notebook can be used to split the data of a hole day into separate files, each containing the trajectories of a single pedestrian.\n",
    "\n",
    "Usage: Modify the data directory to where the raw data file lies and set the save directory to the location where the resulting files should be stored.\n",
    "\n",
    "Beaware: Data files are quite big, for day 2019-09-06 there were 141,417 pedestrians, totaling of 2GB. \n",
    "\n",
    "For testing: Pass the argument block_size to pandas read_csv and only read the first e.g. 10000 lines."
   ]
  },
  {
   "cell_type": "code",
   "execution_count": null,
   "metadata": {},
   "outputs": [],
   "source": [
    "import matplotlib.pyplot as mpl\n",
    "import matplotlib.patches as patches\n",
    "import pandas as pd\n",
    "import numpy as np\n",
    "import os\n",
    "from tqdm import tqdm_notebook as tqdm\n",
    "from shapely.geometry import Point, Polygon, LineString\n",
    "from descartes import PolygonPatch\n",
    "import random\n",
    "from collections import OrderedDict,Counter\n",
    "from math import floor"
   ]
  },
  {
   "cell_type": "code",
   "execution_count": null,
   "metadata": {},
   "outputs": [],
   "source": [
    "def split_by_pedid(filename, path, store_dir,mode='all', time_frame=0):\n",
    "    \n",
    "    block_size = 10000\n",
    "    block = pd.read_csv(os.path.join(path, filename+'.csv'), sep=',',header=None, skiprows=0)\n",
    "    \n",
    "    print(block.head(block_size))\n",
    "    \n",
    "    for i, x in block.groupby(1):\n",
    "        p_filename = \"pedestrian_{}.csv\".format(i)\n",
    "        p_path = os.path.join(store_dir, p_filename)\n",
    "        print(p_filename)\n",
    "        x.to_csv(p_path, index=False)\n",
    "    \n",
    "    return\n",
    "\n",
    "def remove_first_line(path):\n",
    "    \n",
    "    files = os.listdir(path)\n",
    "    \n",
    "    for file in files:\n",
    "        print(file)\n",
    "        ped_traj = pd.read_csv(os.path.join(path,file),sep=',')\n",
    "        ped_traj.to_csv(os.path.join(path,file),sep=',',index=False, header=False)\n",
    "        \n",
    "    return"
   ]
  },
  {
   "cell_type": "code",
   "execution_count": null,
   "metadata": {},
   "outputs": [],
   "source": [
    "base = os.getcwd()\n",
    "print(base)\n",
    "\n",
    "data_dir = os.path.join(base,'../')\n",
    "print(data_dir)\n",
    "\n",
    "folder = 'objectstream_20190906/pedestrians_20190906/'\n",
    "store_dir = os.path.join(data_dir,folder)\n",
    "print(store_dir)\n",
    "#file_names = ['objectstream_20190906_BS_sensor6_reduced']"
   ]
  },
  {
   "cell_type": "markdown",
   "metadata": {},
   "source": [
    "### split by pedestrian id\n",
    "### only execute once in same directory or files will be over written!!!\n",
    "#peds = split_by_pedid(file_names[0],data_dir,store_dir)\n"
   ]
  },
  {
   "cell_type": "markdown",
   "metadata": {},
   "source": [
    "### only execute once to remove header, better pass header=False\n",
    "#remove_first_line(store_dir)"
   ]
  },
  {
   "cell_type": "code",
   "execution_count": null,
   "metadata": {},
   "outputs": [],
   "source": []
  }
 ],
 "metadata": {
  "kernelspec": {
   "display_name": "Python 3",
   "language": "python",
   "name": "python3"
  },
  "language_info": {
   "codemirror_mode": {
    "name": "ipython",
    "version": 3
   },
   "file_extension": ".py",
   "mimetype": "text/x-python",
   "name": "python",
   "nbconvert_exporter": "python",
   "pygments_lexer": "ipython3",
   "version": "3.7.3"
  }
 },
 "nbformat": 4,
 "nbformat_minor": 2
}

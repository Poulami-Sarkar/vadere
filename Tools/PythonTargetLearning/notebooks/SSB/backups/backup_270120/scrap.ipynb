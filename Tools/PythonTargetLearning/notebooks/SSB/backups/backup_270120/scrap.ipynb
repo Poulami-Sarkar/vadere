{
 "cells": [
  {
   "cell_type": "code",
   "execution_count": 1,
   "metadata": {},
   "outputs": [],
   "source": [
    "import pandas as pd\n",
    "\n"
   ]
  },
  {
   "cell_type": "code",
   "execution_count": 2,
   "metadata": {},
   "outputs": [],
   "source": [
    "df = pd.DataFrame({'Origin' : ['A','A','A','B','B','A'], \n",
    "                   'Destination' :['B','C','D','C','D','D'], \n",
    "                   'X' : ['a','b', 'c', 'd', 'e', 'f']})\n",
    "\n",
    "\n",
    "I = pd.DataFrame({'Origin' : ['A','A','B'], 'Destination' : ['B','D','C']})\n"
   ]
  },
  {
   "cell_type": "code",
   "execution_count": 3,
   "metadata": {},
   "outputs": [
    {
     "name": "stdout",
     "output_type": "stream",
     "text": [
      "  Origin Destination  X\n",
      "0      A           B  a\n",
      "1      A           D  c\n",
      "2      A           D  f\n",
      "3      B           C  d\n"
     ]
    }
   ],
   "source": [
    "print (pd.merge(df,I))"
   ]
  },
  {
   "cell_type": "code",
   "execution_count": 4,
   "metadata": {},
   "outputs": [
    {
     "name": "stdout",
     "output_type": "stream",
     "text": [
      "  Origin Destination  X\n",
      "0      A           B  a\n",
      "1      A           D  c\n",
      "2      A           D  f\n",
      "3      B           C  d\n"
     ]
    }
   ],
   "source": [
    "print (pd.merge(I,df, on=['Origin','Destination'])[['Origin','Destination','X']])"
   ]
  },
  {
   "cell_type": "code",
   "execution_count": 5,
   "metadata": {},
   "outputs": [],
   "source": [
    "radius = 1\n",
    "ped_radius = 0.195\n",
    "signma = 0.7\n",
    "\n",
    "def gaussian_pdf(sigma, x, radius):\n",
    "    zaehler = ((radius*2)**2) * np.sqrt(3)  # S_p\n",
    "    nenner = 2 * 2 * np.pi * (sigma**2)\n",
    "\n",
    "    normalization_factor = zaehler/nenner\n",
    "    individual_density = normalization_factor * \\\n",
    "        np.exp(-x / (2 * np.square(sigma)))\n",
    "\n",
    "    return individual_density\n",
    "\n",
    "def gauss_filter():\n",
    "    x_range = np.linspace(-radius,radius,5)\n",
    "    xx, yy = np.meshgrid(x_range,x_range, sparse=False)\n",
    "    grid = np.sqrt(np.square(xx) + np.square(yy))\n",
    "    gauss = np.vectorize(gaussian_pdf)\n",
    "    gauss_grid = gauss(signma, grid, ped_radius)\n",
    "    print(gauss_grid)\n",
    "    return gauss_grid\n"
   ]
  },
  {
   "cell_type": "code",
   "execution_count": 10,
   "metadata": {},
   "outputs": [
    {
     "name": "stdout",
     "output_type": "stream",
     "text": [
      "[[0. 0. 0. ... 0. 0. 0.]\n",
      " [0. 0. 0. ... 0. 0. 0.]\n",
      " [0. 0. 0. ... 0. 0. 0.]\n",
      " ...\n",
      " [0. 0. 0. ... 0. 0. 0.]\n",
      " [0. 0. 0. ... 0. 0. 0.]\n",
      " [0. 0. 0. ... 0. 0. 0.]]\n",
      "[[0.01010565 0.01367158 0.01542149 0.01367158 0.01010565]\n",
      " [0.01367158 0.02079333 0.02568651 0.02079333 0.01367158]\n",
      " [0.01542149 0.02568651 0.04278425 0.02568651 0.01542149]\n",
      " [0.01367158 0.02079333 0.02568651 0.02079333 0.01367158]\n",
      " [0.01010565 0.01367158 0.01542149 0.01367158 0.01010565]]\n",
      "Convolution 0.00042510032653808594\n"
     ]
    },
    {
     "data": {
      "image/png": "[encoded data removed]",
      "text/plain": [
       "<Figure size 720x720 with 2 Axes>"
      ]
     },
     "metadata": {
      "needs_background": "light"
     },
     "output_type": "display_data"
    },
    {
     "data": {
      "image/png": "[encoded data removed]",
      "text/plain": [
       "<Figure size 720x720 with 2 Axes>"
      ]
     },
     "metadata": {
      "needs_background": "light"
     },
     "output_type": "display_data"
    },
    {
     "name": "stdout",
     "output_type": "stream",
     "text": [
      "max 0.03825887257146359\n"
     ]
    }
   ],
   "source": [
    "from scipy.sparse import bsr_matrix\n",
    "import numpy as np\n",
    "import matplotlib.pyplot as plt\n",
    "import scipy.signal as signal\n",
    "import scipy.sparse as sps\n",
    "from pylab import matshow\n",
    "import time\n",
    "#x = np.array([270, 343, 435, 519, 798])\n",
    "#y = np.array([330, 338, 173, 388, 77])\n",
    "res = 500\n",
    "\n",
    "x = np.array([10815.8, 13734.4, 17402.9, 20771.8, 31930.4])\n",
    "y = np.array([16200.46, 16527.29, 6939.13, 15504.83, 3069.66])\n",
    "\n",
    "data = np.zeros((18000//res,56000//res))\n",
    "\n",
    "print(data)\n",
    "\n",
    "for j in range(0,len(x)):\n",
    "    \n",
    "    lowerLeftX = int((x[j]-1)/res)\n",
    "    lowerLeftY = int((y[j]-1)/res)\n",
    "    cordX = x[j]/res\n",
    "    cordY = y[j]/res\n",
    "    \n",
    "    dx = abs(cordX - lowerLeftX)\n",
    "    dy = abs(cordY - lowerLeftY)\n",
    "    \n",
    "    w1 = dx*dy\n",
    "    w2 = dx*(1-dy)\n",
    "    w3 = (1-dx)*dy\n",
    "    w4 = (1-dx)*(1-dy)\n",
    "    \n",
    "    if abs(w1+w2+w3+w4 - 1) != 0:\n",
    "        print(\"error\")\n",
    "    \n",
    "    data[lowerLeftY-1,lowerLeftX-1] = w1\n",
    "    data[lowerLeftY, lowerLeftX-1] = w2\n",
    "    data[lowerLeftY-1, lowerLeftX] = w3\n",
    "    data[lowerLeftY, lowerLeftX] = w4\n",
    "\n",
    "\n",
    "gsfilter = gauss_filter()\n",
    "\n",
    "tick0 = time.time()\n",
    "density = signal.convolve2d(data,gsfilter, mode='same')\n",
    "tick1 = time.time() - tick0\n",
    "\n",
    "print(\"Convolution\",tick1)\n",
    "\n",
    "plt.figure(figsize = (10,10)) # creates a figure 10 inches by 10 inches\n",
    "plt.imshow(data)\n",
    "plt.clim(0,1)\n",
    "plt.colorbar(fraction=0.015, pad=0.04)\n",
    "plt.show()\n",
    "\n",
    "\n",
    "plt.figure(figsize = (10,10)) # creates a figure 10 inches by 10 inches\n",
    "plt.imshow(density)\n",
    "#plt.clim(0,1)\n",
    "plt.colorbar(fraction=0.015, pad=0.04)\n",
    "plt.show()\n",
    "\n",
    "print(\"max\",np.max(density))\n",
    "#plt.spy(data)\n",
    "#plt.show()"
   ]
  },
  {
   "cell_type": "code",
   "execution_count": null,
   "metadata": {},
   "outputs": [],
   "source": []
  },
  {
   "cell_type": "code",
   "execution_count": null,
   "metadata": {},
   "outputs": [],
   "source": []
  }
 ],
 "metadata": {
  "kernelspec": {
   "display_name": "Python 3",
   "language": "python",
   "name": "python3"
  },
  "language_info": {
   "codemirror_mode": {
    "name": "ipython",
    "version": 3
   },
   "file_extension": ".py",
   "mimetype": "text/x-python",
   "name": "python",
   "nbconvert_exporter": "python",
   "pygments_lexer": "ipython3",
   "version": "3.7.3"
  }
 },
 "nbformat": 4,
 "nbformat_minor": 2
}

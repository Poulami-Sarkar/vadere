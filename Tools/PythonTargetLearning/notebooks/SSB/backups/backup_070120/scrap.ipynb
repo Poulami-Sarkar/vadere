{
 "cells": [
  {
   "cell_type": "code",
   "execution_count": 1,
   "metadata": {},
   "outputs": [],
   "source": [
    "import pandas as pd\n",
    "\n"
   ]
  },
  {
   "cell_type": "code",
   "execution_count": 2,
   "metadata": {},
   "outputs": [],
   "source": [
    "df = pd.DataFrame({'Origin' : ['A','A','A','B','B','A'], \n",
    "                   'Destination' :['B','C','D','C','D','D'], \n",
    "                   'X' : ['a','b', 'c', 'd', 'e', 'f']})\n",
    "\n",
    "\n",
    "I = pd.DataFrame({'Origin' : ['A','A','B'], 'Destination' : ['B','D','C']})\n"
   ]
  },
  {
   "cell_type": "code",
   "execution_count": 7,
   "metadata": {},
   "outputs": [
    {
     "name": "stdout",
     "output_type": "stream",
     "text": [
      "  Origin Destination  X\n",
      "0      A           B  a\n",
      "1      A           D  c\n",
      "2      A           D  f\n",
      "3      B           C  d\n"
     ]
    }
   ],
   "source": [
    "print (pd.merge(df,I))"
   ]
  },
  {
   "cell_type": "code",
   "execution_count": 8,
   "metadata": {},
   "outputs": [
    {
     "name": "stdout",
     "output_type": "stream",
     "text": [
      "  Origin Destination  X\n",
      "0      A           B  a\n",
      "1      A           D  c\n",
      "2      A           D  f\n",
      "3      B           C  d\n"
     ]
    }
   ],
   "source": [
    "print (pd.merge(I,df, on=['Origin','Destination'])[['Origin','Destination','X']])"
   ]
  },
  {
   "cell_type": "code",
   "execution_count": null,
   "metadata": {},
   "outputs": [],
   "source": []
  }
 ],
 "metadata": {
  "kernelspec": {
   "display_name": "Python 3",
   "language": "python",
   "name": "python3"
  },
  "language_info": {
   "codemirror_mode": {
    "name": "ipython",
    "version": 3
   },
   "file_extension": ".py",
   "mimetype": "text/x-python",
   "name": "python",
   "nbconvert_exporter": "python",
   "pygments_lexer": "ipython3",
   "version": "3.7.3"
  }
 },
 "nbformat": 4,
 "nbformat_minor": 2
}

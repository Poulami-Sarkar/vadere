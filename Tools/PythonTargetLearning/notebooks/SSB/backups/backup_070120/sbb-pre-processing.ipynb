{
 "cells": [
  {
   "cell_type": "code",
   "execution_count": 1,
   "metadata": {},
   "outputs": [],
   "source": [
    "from __future__ import print_function\n",
    "import pandas as pd\n",
    "import numpy as np\n",
    "import os\n",
    "from ipywidgets import interact, interactive, fixed, interact_manual\n",
    "import ipywidgets as widgets\n",
    "import ipysheet\n",
    "import colorsys\n",
    "import xlsxwriter\n",
    "import csv\n",
    "from tqdm import tqdm_notebook as tqdm\n",
    "from datetime import datetime\n",
    "import matplotlib.pyplot as plt\n",
    "import sys\n",
    "import itertools\n",
    "import time"
   ]
  },
  {
   "cell_type": "code",
   "execution_count": 2,
   "metadata": {},
   "outputs": [],
   "source": [
    "# import python CWL files\n",
    "\n",
    "module_path = os.path.abspath(os.path.join('/SSB'))\n",
    "if module_path not in sys.path:\n",
    "    sys.path.append(module_path)\n",
    "\n",
    "from od_matrices import run, collect_groups, to_groups, plot_od_pixmap, compute_matrix_norms,collect_matrix_entries, generate_hist_plot, generate_bar_plot\n",
    "\n",
    "module_path = os.path.abspath(os.path.join('../../python/python_src_preprocessing/target_learning'))\n",
    "if module_path not in sys.path:\n",
    "    sys.path.append(module_path)\n",
    "\n",
    "from preprocessing.preprocessing import add_pedestrian_to_field\n",
    "import plotting.densitymap as densitymap\n"
   ]
  },
  {
   "cell_type": "markdown",
   "metadata": {},
   "source": [
    "# To-Do's\n",
    "\n",
    "- ~~generate new mapping file~~\n",
    "- load all pedestrian data (with new mapping)\n",
    "- divide into 10 second groups\n",
    "- sort out groups with ped count < 50\n",
    "- add time sequences option for denstiy maps\n",
    "- Generate density maps \n"
   ]
  },
  {
   "cell_type": "markdown",
   "metadata": {},
   "source": [
    "## Generate new mapping \n",
    "\n",
    "New mapping will move all combinations to -1,-1 which have a smaller pedestrian count than 0.001% of the total day. Combinations to be removed are in the file removed_mappings.csv"
   ]
  },
  {
   "cell_type": "code",
   "execution_count": null,
   "metadata": {},
   "outputs": [],
   "source": []
  },
  {
   "cell_type": "code",
   "execution_count": 35,
   "metadata": {},
   "outputs": [],
   "source": [
    "day = \"20190905\"\n",
    "base = '/media/veracrypt1/objectstream_{0}/'.format(day)\n",
    "# 6 7 8 9 10 11 12 13 14 15 16 17 18 19\n",
    "new_dir = \"csv{0}\".format(day)\n",
    "if new_dir not in os.listdir(): \n",
    "    os.makedirs(new_dir)\n",
    "    \n",
    "    \n",
    "mapping = pd.read_csv(os.path.join(base, 'mapping_removed.csv'), dtype={'pedestrianId': 'str'})\n",
    "\n",
    "# concaternate all selected hours of one day\n",
    "od_complete_day = []\n",
    "com_size = 0\n",
    "hours = list(range(5,6))"
   ]
  },
  {
   "cell_type": "code",
   "execution_count": 47,
   "metadata": {},
   "outputs": [
    {
     "name": "stdout",
     "output_type": "stream",
     "text": [
      "       timestamp pedestrianId        x        y\n",
      "0  1567659600031     12243949 -36184.2  6200.46\n",
      "1  1567659600031     12244407 -33265.6  6527.29\n",
      "2  1567659600031     12245649 -29597.1 -3060.87\n",
      "3  1567659600031     12245926 -26228.2  5504.83\n",
      "4  1567659600031     12246554 -15069.6 -6930.34\n",
      "1519.0 686.0\n",
      "       timestamp pedestrianId      x      y\n",
      "0  1567659600031     12243949  445.0  620.0\n",
      "1  1567659600031     12244407  518.0  628.0\n",
      "2  1567659600031     12245649  610.0  388.0\n",
      "3  1567659600031     12245926  694.0  603.0\n",
      "4  1567659600031     12246554  973.0  292.0\n",
      "Step 1 :  31.681561946868896\n"
     ]
    },
    {
     "ename": "AttributeError",
     "evalue": "'list' object has no attribute 'head'",
     "output_type": "error",
     "traceback": [
      "\u001b[0;31m---------------------------------------------------------------------------\u001b[0m",
      "\u001b[0;31mAttributeError\u001b[0m                            Traceback (most recent call last)",
      "\u001b[0;32m<ipython-input-47-05bda155ae1a>\u001b[0m in \u001b[0;36m<module>\u001b[0;34m\u001b[0m\n\u001b[1;32m     63\u001b[0m                 \u001b[0mpedestrians\u001b[0m \u001b[0;34m=\u001b[0m \u001b[0mlist\u001b[0m\u001b[0;34m(\u001b[0m\u001b[0mmap\u001b[0m\u001b[0;34m(\u001b[0m\u001b[0;32mlambda\u001b[0m \u001b[0mx\u001b[0m\u001b[0;34m:\u001b[0m \u001b[0mx\u001b[0m\u001b[0;34m[\u001b[0m\u001b[0;36m1\u001b[0m\u001b[0;34m]\u001b[0m\u001b[0;34m,\u001b[0m \u001b[0mlist\u001b[0m\u001b[0;34m(\u001b[0m\u001b[0mpedestrians\u001b[0m\u001b[0;34m)\u001b[0m\u001b[0;34m)\u001b[0m\u001b[0;34m)\u001b[0m\u001b[0;34m\u001b[0m\u001b[0;34m\u001b[0m\u001b[0m\n\u001b[1;32m     64\u001b[0m                 \u001b[0;32mif\u001b[0m \u001b[0mtest\u001b[0m \u001b[0;34m==\u001b[0m \u001b[0;36m0\u001b[0m\u001b[0;34m:\u001b[0m\u001b[0;34m\u001b[0m\u001b[0;34m\u001b[0m\u001b[0m\n\u001b[0;32m---> 65\u001b[0;31m                     \u001b[0mprint\u001b[0m\u001b[0;34m(\u001b[0m\u001b[0mpedestrians\u001b[0m\u001b[0;34m.\u001b[0m\u001b[0mhead\u001b[0m\u001b[0;34m(\u001b[0m\u001b[0;36m100\u001b[0m\u001b[0;34m)\u001b[0m\u001b[0;34m)\u001b[0m\u001b[0;34m\u001b[0m\u001b[0;34m\u001b[0m\u001b[0m\n\u001b[0m\u001b[1;32m     66\u001b[0m                     \u001b[0;31m#for ped in pedestrians:\u001b[0m\u001b[0;34m\u001b[0m\u001b[0;34m\u001b[0m\u001b[0;34m\u001b[0m\u001b[0m\n\u001b[1;32m     67\u001b[0m                     \u001b[0;31m#    plt.plot(ped[:,3],ped[:,4])\u001b[0m\u001b[0;34m\u001b[0m\u001b[0;34m\u001b[0m\u001b[0;34m\u001b[0m\u001b[0m\n",
      "\u001b[0;31mAttributeError\u001b[0m: 'list' object has no attribute 'head'"
     ]
    }
   ],
   "source": [
    "minx = -47000;\n",
    "maxx = 7000;\n",
    "width = abs(minx)+abs(maxx)\n",
    "miny = -9700;\n",
    "maxy = 8900;\n",
    "height = abs(miny) + abs(maxy)\n",
    "\n",
    "number_of_groups_used = 0\n",
    "\n",
    "full = 0\n",
    "missing = 0\n",
    "pedestian_count = []\n",
    "\n",
    "test = 0\n",
    "\n",
    "for h in hours:\n",
    "    tick0 = time.time()\n",
    "    frame = pd.read_csv(os.path.join(base, 'hours', 'hour-{0}.csv'.format(h)), dtype={'pedestrianId': 'str'})\n",
    "    print(frame.head())\n",
    "    frame.x = frame.x.add(width) # 56000, 18000\n",
    "    frame.x = frame.x.div(40)\n",
    "    frame.x = frame.x.round(0)\n",
    "    frame.y = frame.y.add(height)\n",
    "    frame.y = frame.y.div(40)\n",
    "    frame.y = frame.y.round(0)\n",
    "    print(frame.x.max(), frame.y.max())\n",
    "    print(frame.head())\n",
    "    \n",
    "    od_complete_day.append(frame)\n",
    "    com_size += frame.size\n",
    "    # (freq, interval, skip_groups, off_set)\n",
    "    parameters = ('S', 10, 1, 0)\n",
    "    # divide pedestrians into 10s intervals, generate od-matrix\n",
    "    groups, od_matrices, origins_str, destinations_str = collect_groups(frame, mapping, parameters, write2csv=False, prefix='{0}d-{1}h'.format(day,h))\n",
    "    tick1 = time.time()\n",
    "    print(\"Step 1 : \", tick1-tick0)\n",
    "    tick0 = time.time()\n",
    "    \n",
    "    for group in groups: # 10 second intervals\n",
    "        ped_count = len(group.pedestrianId.unique())\n",
    "        pedestian_count.append(ped_count)\n",
    "        #if ped_count >= 50:\n",
    "        number_of_groups_used+=1\n",
    "        start_g = group.datetime.iloc[0]\n",
    "        end_g = group.datetime.iloc[-1]\n",
    "        sub_groups = to_groups(group, 1, 'S', 1, 0)\n",
    "        \n",
    "        info = []\n",
    "        for sub_group in sub_groups: # 1 second intervals in 10 second intervals\n",
    "            try:\n",
    "                start_sg = sub_group.datetime.iloc[0]\n",
    "                end_sg = sub_group.datetime.iloc[-1]\n",
    "                info.append('{:%d, %b %Y}_{:%I:%M:%S %p}'.format(start_sg,start_sg))\n",
    "                \n",
    "                resolution = 1\n",
    "                gauss_bounds = 1\n",
    "                sigma = 0.7\n",
    "                pedestrian_radius = 0.195\n",
    "                \n",
    "                sub_group = sub_group.sort_values(by=['pedestrianId','timestamp'])\n",
    "                pedestrians = sub_group.groupby(['pedestrianId'])\n",
    "                \n",
    "                pedestrians = list(map(lambda x: x[1], list(pedestrians)))\n",
    "                if test == 0:\n",
    "                    print(pedestrians.head(100))\n",
    "                    #for ped in pedestrians:\n",
    "                    #    plt.plot(ped[:,3],ped[:,4])\n",
    "                    \n",
    "                   # plt.show()\n",
    "                        \n",
    "                    #print(pedestrians.head())\n",
    "                    test += 1\n",
    "                \n",
    "            except IndexError:\n",
    "                info.append('-1')\n",
    "                \n",
    "        if '-1' in info or ped_count < 100:\n",
    "            missing+=1\n",
    "        else:\n",
    "            full += 1\n",
    "      \n",
    "    tick1 = time.time()\n",
    "    print(\"Step 2 :\",tick1-tick0)\n",
    "    print(full, missing)\n",
    "    \n",
    "plt.plot(list(range(0,360)),pedestian_count)\n",
    "plt.show()\n",
    "    # sort every group by pedestrian id, add every pedestrian within one group to the density field\n",
    "    #add_pedestrian_to_field(ped, matrix, area, dimension, resolution, gauss_density_bound, sigma, ped_radius, general_density_matrix):\n",
    "    \n"
   ]
  },
  {
   "cell_type": "code",
   "execution_count": null,
   "metadata": {},
   "outputs": [],
   "source": [
    "# check that correct combinations where removed\n",
    "#plt.rcParams['figure.figsize'] = [7, 7]\n",
    "#plot_od_pixmap(od_matrix[0][2].astype(int), fig_title=\"Complete OD-Matrix {0} day\".format(day), val_precision=0)"
   ]
  },
  {
   "cell_type": "code",
   "execution_count": null,
   "metadata": {},
   "outputs": [],
   "source": [
    "# ped, matrix, area, dimension, resolution, gauss_density_bound, sigma, ped_radius, general_density_matrix)\n",
    "    "
   ]
  },
  {
   "cell_type": "code",
   "execution_count": null,
   "metadata": {},
   "outputs": [],
   "source": []
  },
  {
   "cell_type": "code",
   "execution_count": null,
   "metadata": {},
   "outputs": [],
   "source": []
  }
 ],
 "metadata": {
  "kernelspec": {
   "display_name": "Python 3",
   "language": "python",
   "name": "python3"
  },
  "language_info": {
   "codemirror_mode": {
    "name": "ipython",
    "version": 3
   },
   "file_extension": ".py",
   "mimetype": "text/x-python",
   "name": "python",
   "nbconvert_exporter": "python",
   "pygments_lexer": "ipython3",
   "version": "3.7.3"
  }
 },
 "nbformat": 4,
 "nbformat_minor": 2
}

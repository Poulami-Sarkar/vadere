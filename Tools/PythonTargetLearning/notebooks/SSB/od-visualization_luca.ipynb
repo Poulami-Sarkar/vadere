{
 "cells": [
  {
   "cell_type": "markdown",
   "metadata": {
    "toc": true
   },
   "source": [
    "<h1>Table of Contents<span class=\"tocSkip\"></span></h1>\n",
    "<div class=\"toc\"><ul class=\"toc-item\"></ul></div>"
   ]
  },
  {
   "cell_type": "code",
   "execution_count": 1,
   "metadata": {
    "ExecuteTime": {
     "end_time": "2019-11-27T17:09:00.016411Z",
     "start_time": "2019-11-27T17:09:00.013407Z"
    }
   },
   "outputs": [],
   "source": [
    "from __future__ import print_function\n",
    "import pandas as pd\n",
    "import numpy as np\n",
    "import os\n",
    "from ipywidgets import interact, interactive, fixed, interact_manual\n",
    "import ipywidgets as widgets\n",
    "import ipysheet\n",
    "import colorsys\n",
    "import xlsxwriter\n",
    "from tqdm import tqdm_notebook as tqdm\n",
    "from datetime import datetime"
   ]
  },
  {
   "cell_type": "code",
   "execution_count": 2,
   "metadata": {
    "ExecuteTime": {
     "end_time": "2019-11-27T16:48:53.146352Z",
     "start_time": "2019-11-27T16:48:53.135342Z"
    }
   },
   "outputs": [],
   "source": [
    "def to_groups(peds, interval, freq):\n",
    "    grouped = peds.groupby(pd.Grouper(key='datetime', freq=str(interval) + freq))\n",
    "    grouped = list(map(lambda x: x[1], list(grouped)))\n",
    "    \n",
    "    return grouped\n",
    "\n",
    "\n",
    "def to_pedestrians(peds, mapping, group):\n",
    "    df = peds.loc[peds['timestamp'].isin(group.timestamp.values)]\n",
    "    pedestrians = mapping.loc[mapping['pedestrianId'].isin(df.pedestrianId.unique())]\n",
    "    \n",
    "    return pedestrians\n",
    "\n",
    "\n",
    "def create_od_matrix(pedestrians, axis, precision=8, cap=None):\n",
    "    total = len(pedestrians.pedestrianId.values)\n",
    "    grouped = pedestrians.groupby(['source','target']).size().reset_index().rename(columns={0:'count'})\n",
    "    grouped['count'] = grouped['count'] / total * 100\n",
    "    \n",
    "    od = np.zeros((len(axis), len(axis)))\n",
    "\n",
    "    for i, s in enumerate(axis):\n",
    "        for j, t in enumerate(axis):\n",
    "            row = grouped.loc[(grouped['source'] == s) & (grouped['target'] == t)]\n",
    "            value = 0\n",
    "            \n",
    "            if not row.empty:\n",
    "                value = row['count'].values[0]\n",
    "            \n",
    "            if cap is not None and value < cap:\n",
    "                value = 0\n",
    "            \n",
    "            od[i, j] = round(value, precision)\n",
    "            \n",
    "    return od\n",
    "\n",
    "\n",
    "def generate_gradient_function(max_val):\n",
    "    return \"\"\"function (value) {\n",
    "            if (value == 0) {\n",
    "                return {}\n",
    "            }\n",
    "            var color1 = {red: 255, green: 0, blue: 0};\n",
    "            var color2 = {red: 255, green: 255, blue: 0};\n",
    "            var color3 = {red: 0, green: 255, blue: 0};\n",
    "        \n",
    "            var percent = value/100;\n",
    "            \n",
    "            if (percent <= 0.5) {\n",
    "                start = color1;\n",
    "                end = color2;\n",
    "                percent = percent / 0.5\n",
    "            } else {\n",
    "                start = color2;\n",
    "                end = color3;\n",
    "                percent = (percent - 0.5) / 0.5\n",
    "            }\n",
    "        \n",
    "            start = color1;\n",
    "            end = color3;\n",
    "        \n",
    "            var diffRed = end.red - start.red;\n",
    "            var diffGreen = end.green - start.green;\n",
    "            var diffBlue = end.blue - start.blue;\n",
    "\n",
    "            var g = {\n",
    "              r: start.red + (diffRed * percent),\n",
    "              g: start.green + (diffGreen * percent),\n",
    "              b: start.blue + (diffBlue * percent),\n",
    "            };\n",
    "      \n",
    "            return {\n",
    "                backgroundColor: 'rgba('+g.r+','+g.g+','+g.b+', 0.2)'\n",
    "            };\n",
    "        }\n",
    "        \"\"\""
   ]
  },
  {
   "cell_type": "code",
   "execution_count": 3,
   "metadata": {
    "ExecuteTime": {
     "end_time": "2019-11-27T16:48:56.181197Z",
     "start_time": "2019-11-27T16:48:56.152171Z"
    }
   },
   "outputs": [],
   "source": [
    "def run(peds, mapping, cap=None, precision=8, prefix=''):\n",
    "    to_string = np.vectorize(lambda x: str(x))\n",
    "    to_precision = np.vectorize(lambda x: round(x, precision))\n",
    "    \n",
    "    freq = 'T'\n",
    "    interval = 10\n",
    "    group = 0\n",
    "    \n",
    "    if 'datetime' not in peds.columns:\n",
    "        peds.insert(1, 'datetime', pd.to_datetime(peds['timestamp'], unit='ms'))\n",
    "    \n",
    "    wFreq = widgets.Dropdown(options=[('hour', 'H'), ('min', 'T'), ('seconds', 'S')], value=freq, description='freq')\n",
    "    wInterval = widgets.IntSlider(min=1, max=60, step=1, value=interval, description='interval', continuous_update=False)\n",
    "    wGroup = widgets.IntSlider(min=0, max=0, step=1, value=group, description='group', continuous_update=False)\n",
    "    wTime = widgets.Label(value=\"text\")\n",
    "    wSave = widgets.Button(description='Save all')\n",
    "    \n",
    "    \n",
    "    source_target = np.union1d(mapping.source.unique(), mapping.target.unique())\n",
    "    dim = len(source_target)\n",
    "    axis = list(to_string(source_target)) + ['sum']\n",
    "    sheet = ipysheet.sheet(rows=len(axis), columns=len(axis), column_headers=axis, row_headers=axis)\n",
    "    \n",
    "    groups = to_groups(peds, interval, freq)\n",
    "    wGroup.max = len(groups) - 1\n",
    "    \n",
    "    start = groups[group].datetime.iloc[0]\n",
    "    end = groups[group].datetime.iloc[-1]\n",
    "    wTime.value = \"{:%d, %b %Y} from {:%I:%M:%S %p} to {:%I:%M:%S %p}\".format(start, start, end)\n",
    "    \n",
    "    pedestrians = to_pedestrians(peds, mapping, groups[group])\n",
    "    od = create_od_matrix(pedestrians, source_target, precision=precision, cap=cap)\n",
    "    \n",
    "    origin = to_precision(od.sum(axis=0))\n",
    "    destination = to_precision(od.sum(axis=1))\n",
    "    \n",
    "    ipysheet.renderer(code=generate_gradient_function(od.max()), name='gradient');\n",
    "    ipysheet.renderer(code=generate_gradient_function(origin.max()), name='origin');\n",
    "    ipysheet.renderer(code=generate_gradient_function(destination.max()), name='destination');\n",
    "    \n",
    "    ipysheet.cell_range(od, row_start=0, column_start=0, renderer='gradient')\n",
    "    ipysheet.row(dim, origin, column_end=dim-1, renderer='origin')\n",
    "    ipysheet.column(dim, destination, row_end=dim-1, renderer='destination')\n",
    "    \n",
    "    def f(change):\n",
    "        nonlocal peds\n",
    "        nonlocal mapping\n",
    "        nonlocal freq\n",
    "        nonlocal interval\n",
    "        nonlocal group\n",
    "        nonlocal groups\n",
    "        nonlocal wGroup\n",
    "        \n",
    "        name = change['owner'].description\n",
    "        value = change['new']\n",
    "        \n",
    "        regroup = False\n",
    "        \n",
    "        if name is 'group':\n",
    "            group = value\n",
    "        elif name is 'freq':\n",
    "            freq = value\n",
    "            regroup = True\n",
    "        elif name is 'interval':\n",
    "            interval = value\n",
    "            regroup = True\n",
    "\n",
    "        if regroup:\n",
    "            groups = to_groups(peds, interval, freq)\n",
    "            wGroup.max = len(groups) - 1\n",
    "        \n",
    "        pedestrians = to_pedestrians(peds, mapping, groups[group])\n",
    "        od = create_od_matrix(pedestrians, source_target, precision=precision, cap=cap)\n",
    "        \n",
    "        origin = to_precision(od.sum(axis=0))\n",
    "        destination = to_precision(od.sum(axis=1))\n",
    "    \n",
    "        ipysheet.renderer(code=generate_gradient_function(od.max()), name='gradient');\n",
    "        ipysheet.renderer(code=generate_gradient_function(origin.max()), name='origin');\n",
    "        ipysheet.renderer(code=generate_gradient_function(destination.max()), name='destination');\n",
    "    \n",
    "        ipysheet.cell_range(od, row_start=0, column_start=0, renderer='gradient')\n",
    "        ipysheet.row(dim, origin, column_end=dim-1, renderer='origin')\n",
    "        ipysheet.column(dim, destination, row_end=dim-1, renderer='destination')\n",
    "        \n",
    "        start = groups[group].datetime.iloc[0]\n",
    "        end = groups[group].datetime.iloc[-1]\n",
    "        wTime.value = \"{:%d, %b %Y} from {:%I:%M:%S %p} to {:%I:%M:%S %p}\".format(start, start, end)\n",
    "        \n",
    "            \n",
    "    wFreq.observe(f, names='value')\n",
    "    wInterval.observe(f, names='value')\n",
    "    wGroup.observe(f, names='value')\n",
    "    \n",
    "    def save(button):\n",
    "        data = []\n",
    "        for g in groups:\n",
    "            start = g.datetime.iloc[0]\n",
    "            end = g.datetime.iloc[-1]\n",
    "        \n",
    "            # select mapping for pedestrians contained in given hour\n",
    "            pedestrians = to_pedestrians(peds, mapping, g)\n",
    "    \n",
    "            # generate od matrix\n",
    "            od = create_od_matrix(pedestrians, source_target, precision=precision, cap=cap)\n",
    "    \n",
    "            name = \"{:%I:%M:%S %p} - {:%I:%M:%S %p}\".format(start, end)\n",
    "            data.append((name, len(pedestrians), od))\n",
    "            \n",
    "            #pd.DataFrame(od, columns=to_string(source_target)).to_excel(os.path.join(base, filename))\n",
    "            \n",
    "        write_xlsx(data, to_string(source_target), name=\"{:%Y%m%d-%H-%M-%S}-od-matrices-{}\".format(datetime.now(), prefix))\n",
    "    \n",
    "            \n",
    "    \n",
    "    wSave.on_click(save)\n",
    "\n",
    "    return widgets.VBox([wFreq, wInterval, wGroup, wTime, wSave, sheet])"
   ]
  },
  {
   "cell_type": "code",
   "execution_count": 4,
   "metadata": {
    "ExecuteTime": {
     "end_time": "2019-11-27T17:09:55.260280Z",
     "start_time": "2019-11-27T17:09:55.246267Z"
    }
   },
   "outputs": [],
   "source": [
    "def write_xlsx(groups, axis, name='od-matrices'):\n",
    "    chars = 'ABCDEFGHIJKLMNOP'\n",
    "    workbook = xlsxwriter.Workbook('{}.xlsx'.format(name))\n",
    "    number_of_persons = workbook.add_worksheet('# of persons')\n",
    "    od_matrices = workbook.add_worksheet('od matrices')\n",
    "    \n",
    "    format_center = workbook.add_format()\n",
    "    format_center.set_align('center')\n",
    "    \n",
    "    format_col_sum = workbook.add_format()\n",
    "    format_col_sum.set_align('center')\n",
    "    format_col_sum.set_left(6)\n",
    "    \n",
    "    format_row_sum = workbook.add_format()\n",
    "    format_row_sum.set_align('center')\n",
    "    format_row_sum.set_top(6)\n",
    "    \n",
    "    format_row_index = workbook.add_format()\n",
    "    format_row_index.set_align('center')\n",
    "    format_row_index.set_right(6)\n",
    "    \n",
    "    number_of_persons.write_row(0, 0, ['Time', '# pedestrians'], format_center)\n",
    "    \n",
    "    # write header and freeze row\n",
    "    od_matrices.write_row(0, 1, axis, format_center)\n",
    "    od_matrices.freeze_panes(1, 0)\n",
    "    \n",
    "    n = len(axis)\n",
    "    current = 1\n",
    "\n",
    "    for j, group in tqdm(enumerate(groups)):\n",
    "        time = group[0]\n",
    "        persons = group[1]\n",
    "        od = group[2]\n",
    "        \n",
    "        number_of_persons.write_row(j+1, 0, [time, persons], format_center)\n",
    "        \n",
    "        # write time\n",
    "        od_matrices.merge_range(current, 0, current, n + 1, time, format_center)\n",
    "        \n",
    "        # write row index\n",
    "        current = current + 1\n",
    "        od_matrices.write_column(current, 0, axis, format_row_index)\n",
    "        \n",
    "        for row in range(n):\n",
    "            od_matrices.write_row(current, 1, od[row], format_center)\n",
    "            od_matrices.write_formula(current, n+1, '=SUM({}{}:{}{})'.format(chars[1], current+1, chars[n], current+1), format_col_sum)\n",
    "            \n",
    "            current = current + 1\n",
    "\n",
    "            \n",
    "        for col in range(n):\n",
    "            i = col+1\n",
    "            od_matrices.write_formula(current, i, '=SUM({}{}:{}{})'.format(chars[i], current-n+1, chars[i], current), format_row_sum)\n",
    "        \n",
    "        conditional_format = {\n",
    "            'type': '3_color_scale', \n",
    "            'min_type': 'num', \n",
    "            'min_value': 0, \n",
    "            'mid_type': 'num', \n",
    "            'mid_value': 50, \n",
    "            'max_type': 'num', \n",
    "            'max_value': 100\n",
    "        }\n",
    "        \n",
    "        # destination sum coloring\n",
    "        od_matrices.conditional_format('{}{}:{}{}'.format(chars[1], current+1, chars[n], current+1), conditional_format)\n",
    "        \n",
    "        # origin sum coloring\n",
    "        od_matrices.conditional_format('{}{}:{}{}'.format(chars[n+1], current-n + 1, chars[n+1], current), conditional_format)\n",
    "        \n",
    "        # distribution coloring\n",
    "        od_matrices.conditional_format('{}{}:{}{}'.format(chars[1], current-n + 1, chars[n], current), conditional_format)\n",
    "        \n",
    "        current = current + 2\n",
    "        \n",
    "    workbook.close()\n",
    "    print('done')\n",
    " "
   ]
  },
  {
   "cell_type": "code",
   "execution_count": null,
   "metadata": {},
   "outputs": [],
   "source": []
  },
  {
   "cell_type": "code",
   "execution_count": 11,
   "metadata": {
    "ExecuteTime": {
     "end_time": "2019-11-27T17:09:58.431263Z",
     "start_time": "2019-11-27T17:09:58.246056Z"
    }
   },
   "outputs": [],
   "source": [
    "# base directory to use\n",
    "#base = '../objectstream_20190905/'\n",
    "base = '/media/veracrypt1/objectstream_20190905/'\n",
    "\n",
    "frame = pd.read_csv(os.path.join(base, 'hours', 'hour-{}.csv'.format(12)), dtype={'pedestrianId': 'str'})\n",
    "mapping = pd.read_csv(os.path.join(base, 'mapping.csv'), dtype={'pedestrianId': 'str'})"
   ]
  },
  {
   "cell_type": "code",
   "execution_count": 12,
   "metadata": {
    "ExecuteTime": {
     "end_time": "2019-11-27T17:09:59.684911Z",
     "start_time": "2019-11-27T17:09:59.509752Z"
    },
    "scrolled": false
   },
   "outputs": [
    {
     "data": {
      "application/vnd.jupyter.widget-view+json": {
       "model_id": "8e773ee5700a488f88c907bcc3fb78c7",
       "version_major": 2,
       "version_minor": 0
      },
      "text/plain": [
       "VBox(children=(Dropdown(description='freq', index=1, options=(('hour', 'H'), ('min', 'T'), ('seconds', 'S')), …"
      ]
     },
     "metadata": {},
     "output_type": "display_data"
    }
   ],
   "source": [
    "display(run(frame, mapping, prefix='05-12h'))"
   ]
  },
  {
   "cell_type": "code",
   "execution_count": null,
   "metadata": {},
   "outputs": [],
   "source": []
  }
 ],
 "metadata": {
  "kernelspec": {
   "display_name": "Python 3",
   "language": "python",
   "name": "python3"
  },
  "language_info": {
   "codemirror_mode": {
    "name": "ipython",
    "version": 3
   },
   "file_extension": ".py",
   "mimetype": "text/x-python",
   "name": "python",
   "nbconvert_exporter": "python",
   "pygments_lexer": "ipython3",
   "version": "3.7.3"
  },
  "toc": {
   "base_numbering": 1,
   "nav_menu": {},
   "number_sections": true,
   "sideBar": true,
   "skip_h1_title": false,
   "title_cell": "Table of Contents",
   "title_sidebar": "Contents",
   "toc_cell": true,
   "toc_position": {},
   "toc_section_display": true,
   "toc_window_display": false
  },
  "varInspector": {
   "cols": {
    "lenName": 16,
    "lenType": 16,
    "lenVar": 40
   },
   "kernels_config": {
    "python": {
     "delete_cmd_postfix": "",
     "delete_cmd_prefix": "del ",
     "library": "var_list.py",
     "varRefreshCmd": "print(var_dic_list())"
    },
    "r": {
     "delete_cmd_postfix": ") ",
     "delete_cmd_prefix": "rm(",
     "library": "var_list.r",
     "varRefreshCmd": "cat(var_dic_list()) "
    }
   },
   "types_to_exclude": [
    "module",
    "function",
    "builtin_function_or_method",
    "instance",
    "_Feature"
   ],
   "window_display": false
  }
 },
 "nbformat": 4,
 "nbformat_minor": 2
}

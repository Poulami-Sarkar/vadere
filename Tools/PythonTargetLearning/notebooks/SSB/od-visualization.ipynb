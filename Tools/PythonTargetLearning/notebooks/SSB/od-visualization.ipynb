{
 "cells": [
  {
   "cell_type": "markdown",
   "metadata": {
    "toc": true
   },
   "source": [
    "<h1>Table of Contents<span class=\"tocSkip\"></span></h1>\n",
    "<div class=\"toc\"><ul class=\"toc-item\"></ul></div>"
   ]
  },
  {
   "cell_type": "code",
   "execution_count": null,
   "metadata": {
    "ExecuteTime": {
     "end_time": "2019-11-21T15:48:55.678198Z",
     "start_time": "2019-11-21T15:48:55.673194Z"
    }
   },
   "outputs": [],
   "source": [
    "from __future__ import print_function\n",
    "import pandas as pd\n",
    "import numpy as np\n",
    "import os\n",
    "from ipywidgets import interact, interactive, fixed, interact_manual\n",
    "import ipywidgets as widgets\n",
    "import ipysheet\n",
    "import colorsys\n",
    "import xlsxwriter\n",
    "import csv\n",
    "from tqdm import tqdm_notebook as tqdm\n",
    "from datetime import datetime\n",
    "import matplotlib.pyplot as plt\n",
    "import sys"
   ]
  },
  {
   "cell_type": "code",
   "execution_count": null,
   "metadata": {},
   "outputs": [],
   "source": [
    "# import python CWL files\n",
    "\n",
    "module_path = os.path.abspath(os.path.join('/SSB'))\n",
    "if module_path not in sys.path:\n",
    "    sys.path.append(module_path)\n",
    "\n",
    "from od_matrices import run, collect_groups, plot_od_pixmap, compute_matrix_norms,collect_matrix_entries, generate_hist_plot, generate_bar_plot\n",
    "\n",
    "module_path = os.path.abspath(os.path.join('../../python/python_src_preprocessing/target_learning'))\n",
    "if module_path not in sys.path:\n",
    "    sys.path.append(module_path)\n",
    "\n",
    "#print(os.listdir('../../python/python_src_preprocessing/target_learning'))\n",
    "import preprocessing.preprocessing as processing\n",
    "import plotting.densitymap as densitymap\n"
   ]
  },
  {
   "cell_type": "markdown",
   "metadata": {},
   "source": [
    "## OD-Matrices Widget"
   ]
  },
  {
   "cell_type": "code",
   "execution_count": null,
   "metadata": {
    "ExecuteTime": {
     "end_time": "2019-11-21T15:39:50.821811Z",
     "start_time": "2019-11-21T15:39:50.563577Z"
    }
   },
   "outputs": [],
   "source": [
    "# base directory to use\n",
    "day = \"20190905\"\n",
    "base = '/media/veracrypt1/objectstream_{0}/'.format(day)\n",
    "# 6 7 8 9 10 11 12 13 14 15 16 17 18 19\n",
    "new_dir = \"csv{0}\".format(day)\n",
    "if new_dir not in os.listdir(): \n",
    "    os.makedirs(new_dir)\n",
    "\n",
    "selected_hour = 5\n",
    "frame = pd.read_csv(os.path.join(base, 'hours', 'hour-{0}.csv'.format(selected_hour)), dtype={'pedestrianId': 'str'})\n",
    "mapping = pd.read_csv(os.path.join(base, 'mapping_removed.csv'), dtype={'pedestrianId': 'str'})       "
   ]
  },
  {
   "cell_type": "code",
   "execution_count": null,
   "metadata": {
    "ExecuteTime": {
     "end_time": "2019-11-21T15:51:58.368278Z",
     "start_time": "2019-11-21T15:51:58.205111Z"
    },
    "scrolled": false
   },
   "outputs": [],
   "source": [
    "display(run(frame, mapping, prefix='{0}d{1}h'.format(day,selected_hour)))"
   ]
  },
  {
   "cell_type": "markdown",
   "metadata": {},
   "source": [
    "## Generate OD-Matrices\n",
    "### OD-Matrix per hour or complete day\n",
    "\n",
    "#### If files should be saves set write2csv = True!"
   ]
  },
  {
   "cell_type": "code",
   "execution_count": null,
   "metadata": {},
   "outputs": [],
   "source": [
    "od_complete_day = []\n",
    "com_size = 0\n",
    "\n",
    "hours = list(range(5,6))\n",
    "\n",
    "for h in hours:\n",
    "    frame = pd.read_csv(os.path.join(base, 'hours', 'hour-{0}.csv'.format(h)), dtype={'pedestrianId': 'str'})\n",
    "    od_complete_day.append(frame)\n",
    "    com_size += frame.size\n",
    "    \n",
    "    #data, source_to_target, name = collect_groups(frame, mapping, data_type = 'ped_count', write2csv=False, prefix='{0}d-{1}h'.format(day,h))\n",
    "\n",
    "frame_complete = pd.concat(od_complete_day)\n",
    "groups, od_matrices, origins_str, destinations_str  = collect_groups(frame_complete, mapping, ('H', 1, 1, 0))"
   ]
  },
  {
   "cell_type": "code",
   "execution_count": null,
   "metadata": {},
   "outputs": [],
   "source": [
    "\n",
    "print(origins_str, destinations_str)\n",
    "od_test = od_matrices[0][2]\n",
    "print(od_test)\n",
    "\n",
    "        "
   ]
  },
  {
   "cell_type": "code",
   "execution_count": null,
   "metadata": {},
   "outputs": [],
   "source": [
    "plt.rcParams['figure.figsize'] = [10, 10]\n",
    "plot_od_pixmap(od_test, fig_title=\"Complete OD-Matrix {0} day\".format(day), val_precision=0, file_name='od_matrix_day{0}'.format(day))"
   ]
  },
  {
   "cell_type": "code",
   "execution_count": null,
   "metadata": {},
   "outputs": [],
   "source": [
    "count = np.sum(np.sum(od_matrix[0][2]))\n",
    "percentages = np.divide(od_matrix[0][2], count)*100\n",
    "\n",
    "plot_od_pixmap(percentages, fig_title=\"Percentages OD-Matrix complete {0} day\".format(day), val_precision=3, file_name='od_matrix_percentage_day{0}'.format(day))"
   ]
  },
  {
   "cell_type": "code",
   "execution_count": null,
   "metadata": {},
   "outputs": [],
   "source": [
    "flags = np.zeros((10,10))\n",
    "removed_indexes = []\n",
    "\n",
    "for i in range(0,10):\n",
    "    for j in range(0,10):\n",
    "        if percentages[i,j] < 0.1:\n",
    "            flags[i,j] = 1\n",
    "            removed_indexes.append([i-1,j-1])\n",
    "\n",
    "removed_indexes.append([6,1])\n",
    "removed_indexes.append([8,7])\n",
    "\n",
    "plot_od_pixmap(flags, fig_title=\"Cell average that are < 0.1% in day {0}\".format(day), color_type='binary', show_values=False, file_name='od_matrix_bw_day{0}'.format(day))"
   ]
  },
  {
   "cell_type": "markdown",
   "metadata": {},
   "source": [
    "## Generate Histogram\n",
    "\n"
   ]
  },
  {
   "cell_type": "markdown",
   "metadata": {},
   "source": []
  },
  {
   "cell_type": "code",
   "execution_count": null,
   "metadata": {},
   "outputs": [],
   "source": [
    "h = 8\n",
    "frame = pd.read_csv(os.path.join(base, 'hours', 'hour-{0}.csv'.format(h)), dtype={'pedestrianId': 'str'})\n"
   ]
  },
  {
   "cell_type": "code",
   "execution_count": null,
   "metadata": {},
   "outputs": [],
   "source": [
    "data, source_to_target, name = collect_groups(frame, mapping, data_type = 'ped_count', write2csv=False, prefix='{0}d-{1}h'.format(day,h))"
   ]
  },
  {
   "cell_type": "code",
   "execution_count": null,
   "metadata": {},
   "outputs": [],
   "source": [
    "l2 = compute_matrix_norms(data)\n",
    "\n"
   ]
  },
  {
   "cell_type": "code",
   "execution_count": null,
   "metadata": {},
   "outputs": [],
   "source": [
    "# title, xlabel, filename,\n",
    "hist_info = [\"L2 Matrix\", \"L2 matrix norm\",\\\n",
    "             \"hist-L2_{0}_{1}h\".format(day,h)]\n",
    "\n",
    "x_max = np.max(l2[:,1])\n",
    "generate_hist_plot(h, l2[:,1], x_max=x_max,y_max=100, info=hist_info)\n",
    "\n",
    "# title, ylabel, filename\n",
    "bar_info = [\"Matrix norm\", \"L2 matrix norm\",\\\n",
    "            \"bar-L2_{0}_{1}h\".format(day,h)]\n",
    "\n",
    "generate_bar_plot(h, l2[:,0], l2[:,1],bar_info,show_av=True)"
   ]
  },
  {
   "cell_type": "markdown",
   "metadata": {},
   "source": [
    "## Plot historgram for each cell value to show variance"
   ]
  },
  {
   "cell_type": "code",
   "execution_count": null,
   "metadata": {},
   "outputs": [],
   "source": [
    "plt.rcParams['figure.figsize'] = [15, 15]\n",
    "fig, axis = plt.subplots(10, 10, sharex=True, sharey=True)\n",
    "\n",
    "for origin in range(-1,9):\n",
    "    for destination in range(-1,9):\n",
    "        \n",
    "        entries = collect_matrix_entries(data,origin,destination)\n",
    "        hist_title = \"O:{0} - T:{1}\".format(origin,destination)\n",
    "        hist_xaxis=\"OD-Matrix entry at ({0},{1})\".format(origin,destination)\n",
    "        hist_file_name = \"hist_ped_{0}_{1}_{2}d_{3}h.png\".format(origin,destination,day,h)\n",
    "        hist_info = [hist_title,hist_xaxis,hist_file_name]\n",
    "\n",
    "        axis[origin+1,destination+1].hist(x=entries[:,2],bins=10,alpha=0.7,rwidth=0.85)\n",
    "        axis[origin+1,destination+1].set_xlim([0,43])\n",
    "        axis[origin+1,destination+1].set_ylim([0,100])\n",
    "        if origin == -1:\n",
    "            axis[origin+1,destination+1].set_title(\"{0}\".format(destination))\n",
    "\n",
    "        if destination == -1:\n",
    "            axis[origin+1,destination+1].set_ylabel(\"{0}\".format(origin))\n",
    "\n",
    "        #fig.suptitle('Variance of origin to destination distribution \\n {0}:00-{1}:00 a.m.'.format(h,h+1), fontsize=18) # or plt.suptitle('Main title')\n",
    "        #plt.savefig(\"{0}day-{1}h_hist.png\".format(day,h))\n",
    "        #plt.show()"
   ]
  },
  {
   "cell_type": "markdown",
   "metadata": {},
   "source": [
    "## Bar plot of OD-Matrix entries"
   ]
  },
  {
   "cell_type": "code",
   "execution_count": null,
   "metadata": {},
   "outputs": [],
   "source": [
    "hours = list(range(5,22))\n",
    "flags = np.zeros((10,10))\n",
    "av_matrix = np.zeros((10,10))\n",
    "\n",
    "for h in hours:\n",
    "    frame = pd.read_csv(os.path.join(base, 'hours', 'hour-{0}.csv'.format(h)), dtype={'pedestrianId': 'str'})\n",
    "    data, source_to_target, name = collect_groups(frame, mapping, data_type = 'ped_count', write2csv=False, prefix='{0}d-{1}h'.format(day,h))\n",
    "\n",
    "    plt.rcParams['figure.figsize'] = [5, 5]\n",
    "    #fig, axis = plt.subplots(10, 10, sharex=True, sharey=True)\n",
    "\n",
    "    use_subplots = False\n",
    "\n",
    "    for origin in range(-1,9):\n",
    "        for destination in range(-1,9):\n",
    "\n",
    "            entries = collect_matrix_entries(data,origin,destination)\n",
    "            plt.rcParams['figure.figsize'] = [7, 7]\n",
    "            bar_file_name = \"bar-ped-{0}-{1}_{2}d_{3}h.png\".format(origin,destination,day,h)\n",
    "\n",
    "            hist_title = \" from origin {0} to destination {1} \".format(origin,destination)\n",
    "            hist_xaxis = \"time intervalls [10s]\"\n",
    "            bar_file_name = \"hist.png\"\n",
    "            bar_info = [hist_title, hist_xaxis, bar_file_name]\n",
    "\n",
    "            if use_subplots:\n",
    "\n",
    "                average = np.average(entries[:,2])\n",
    "                axis[origin+1,destination+1].hlines(average,0,360,linewidth=2,color='r')\n",
    "                bar_x = np.arange(len(entries[:,2]))\n",
    "                axis[origin+1,destination+1].bar(bar_x,entries[:,2], width=0.8)\n",
    "                plt.xlim([-10, len(entries[:,2])+10])\n",
    "\n",
    "                if origin == -1:\n",
    "                    axis[origin+1,target+1].set_title(\"{0}\".format(target))\n",
    "                if target == -1:\n",
    "                    axis[origin+1,target+1].set_ylabel(\"{0}\".format(origin))\n",
    "\n",
    "            else:\n",
    "                av_matrix[origin+1, destination+1] += np.average(entries[:,2])\n",
    "\n",
    "                if (av_matrix[origin+1, destination+1] < 1):\n",
    "                    flags[origin+1,destination+1] += 1\n",
    "                else:\n",
    "                    flags[origin+1,destination+1] += 0\n",
    "                #generate_bar_plot(h,entries[:,0],entries[:,2],bar_info,show_av=True)\n",
    "                \n",
    "                \n",
    "av_matrix = np.divide(av_matrix, 17)"
   ]
  },
  {
   "cell_type": "code",
   "execution_count": null,
   "metadata": {},
   "outputs": [],
   "source": [
    "\n",
    "fig, ax = plt.subplots()\n",
    "ax.set_xticks(np.arange(10))\n",
    "ax.set_yticks(np.arange(10))\n",
    "od_labels = ['-1','0','1','2','3','4','5','6','7','8']\n",
    "ax.set_xticklabels(od_labels)\n",
    "ax.set_yticklabels(od_labels)\n",
    "for i in range(0,10):\n",
    "    for j in range(0,10):\n",
    "        text = ax.text(j, i, np.round(av_matrix[i, j],2), ha=\"center\", va=\"center\", color=\"w\")\n",
    "\n",
    "av_matrix = np.divide(av_matrix,17)\n",
    "plt.title(\"Average OD-Matrix {0} day\".format(day))\n",
    "plt.imshow(av_matrix, cmap='viridis')\n",
    "plt.colorbar()\n",
    "plt.savefig(\"average-OD-Matrix-{0}day\".format(day),dpi=400)\n",
    "plt.show()\n",
    "\n",
    "    \n",
    "# average counts\n",
    "fig, ax = plt.subplots()\n",
    "ax.set_xticks(np.arange(10))\n",
    "ax.set_yticks(np.arange(10))\n",
    "od_labels = ['-1','0','1','2','3','4','5','6','7','8']\n",
    "ax.set_xticklabels(od_labels)\n",
    "ax.set_yticklabels(od_labels)\n",
    "for i in range(0,10):\n",
    "    for j in range(0,10):\n",
    "        text = ax.text(j, i, flags[i, j], ha=\"center\", va=\"center\", color=\"r\")\n",
    "\n",
    "        \n",
    "plt.title(\"Number of times cell average is < 1 {0} day\".format(day))\n",
    "plt.imshow(flags, cmap='binary')\n",
    "plt.colorbar()\n",
    "plt.savefig(\"average_smaller1_day\"+str(day),dpi=400)\n",
    "plt.show()"
   ]
  },
  {
   "cell_type": "code",
   "execution_count": null,
   "metadata": {},
   "outputs": [],
   "source": []
  },
  {
   "cell_type": "code",
   "execution_count": null,
   "metadata": {},
   "outputs": [],
   "source": []
  }
 ],
 "metadata": {
  "kernelspec": {
   "display_name": "Python 3",
   "language": "python",
   "name": "python3"
  },
  "language_info": {
   "codemirror_mode": {
    "name": "ipython",
    "version": 3
   },
   "file_extension": ".py",
   "mimetype": "text/x-python",
   "name": "python",
   "nbconvert_exporter": "python",
   "pygments_lexer": "ipython3",
   "version": "3.7.3"
  },
  "toc": {
   "base_numbering": 1,
   "nav_menu": {},
   "number_sections": true,
   "sideBar": true,
   "skip_h1_title": false,
   "title_cell": "Table of Contents",
   "title_sidebar": "Contents",
   "toc_cell": true,
   "toc_position": {},
   "toc_section_display": true,
   "toc_window_display": false
  },
  "varInspector": {
   "cols": {
    "lenName": 16,
    "lenType": 16,
    "lenVar": 40
   },
   "kernels_config": {
    "python": {
     "delete_cmd_postfix": "",
     "delete_cmd_prefix": "del ",
     "library": "var_list.py",
     "varRefreshCmd": "print(var_dic_list())"
    },
    "r": {
     "delete_cmd_postfix": ") ",
     "delete_cmd_prefix": "rm(",
     "library": "var_list.r",
     "varRefreshCmd": "cat(var_dic_list()) "
    }
   },
   "types_to_exclude": [
    "module",
    "function",
    "builtin_function_or_method",
    "instance",
    "_Feature"
   ],
   "window_display": false
  }
 },
 "nbformat": 4,
 "nbformat_minor": 2
}

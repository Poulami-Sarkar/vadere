{
 "cells": [
  {
   "cell_type": "markdown",
   "metadata": {
    "toc": true
   },
   "source": [
    "<h1>Table of Contents<span class=\"tocSkip\"></span></h1>\n",
    "<div class=\"toc\"><ul class=\"toc-item\"><li><span><a href=\"#Search-trajectory-files-and-create-output-path\" data-toc-modified-id=\"Search-trajectory-files-and-create-output-path-1\"><span class=\"toc-item-num\">1&nbsp;&nbsp;</span>Search trajectory files and create output path</a></span></li><li><span><a href=\"#Plot-experiment-trajectories\" data-toc-modified-id=\"Plot-experiment-trajectories-2\"><span class=\"toc-item-num\">2&nbsp;&nbsp;</span>Plot experiment trajectories</a></span></li><li><span><a href=\"#Processing-Experiments\" data-toc-modified-id=\"Processing-Experiments-3\"><span class=\"toc-item-num\">3&nbsp;&nbsp;</span>Processing Experiments</a></span></li><li><span><a href=\"#Interactive-plot-of-density-images\" data-toc-modified-id=\"Interactive-plot-of-density-images-4\"><span class=\"toc-item-num\">4&nbsp;&nbsp;</span>Interactive plot of density images</a></span></li><li><span><a href=\"#Aggregate-unfiltered-density-distributions\" data-toc-modified-id=\"Aggregate-unfiltered-density-distributions-5\"><span class=\"toc-item-num\">5&nbsp;&nbsp;</span>Aggregate unfiltered density distributions</a></span></li><li><span><a href=\"#Filter-duplicated-images\" data-toc-modified-id=\"Filter-duplicated-images-6\"><span class=\"toc-item-num\">6&nbsp;&nbsp;</span>Filter duplicated images</a></span></li><li><span><a href=\"#Combine-images\" data-toc-modified-id=\"Combine-images-7\"><span class=\"toc-item-num\">7&nbsp;&nbsp;</span>Combine images</a></span></li><li><span><a href=\"#Aggregate-filtered-density-distributions\" data-toc-modified-id=\"Aggregate-filtered-density-distributions-8\"><span class=\"toc-item-num\">8&nbsp;&nbsp;</span>Aggregate filtered density distributions</a></span></li><li><span><a href=\"#Filter-50/50-distributions\" data-toc-modified-id=\"Filter-50/50-distributions-9\"><span class=\"toc-item-num\">9&nbsp;&nbsp;</span>Filter 50/50 distributions</a></span></li><li><span><a href=\"#Plot-density-maps-to-file\" data-toc-modified-id=\"Plot-density-maps-to-file-10\"><span class=\"toc-item-num\">10&nbsp;&nbsp;</span>Plot density maps to file</a></span></li></ul></div>"
   ]
  },
  {
   "cell_type": "code",
   "execution_count": 1,
   "metadata": {
    "ExecuteTime": {
     "end_time": "2019-08-22T13:11:46.043782Z",
     "start_time": "2019-08-22T13:11:45.523308Z"
    },
    "code_folding": [],
    "scrolled": false
   },
   "outputs": [],
   "source": [
    "# imports\n",
    "\n",
    "import numpy as np\n",
    "import pandas as pd\n",
    "import matplotlib.pyplot as matplot\n",
    "import itertools\n",
    "import math\n",
    "import sys\n",
    "\n",
    "from tqdm import tqdm_notebook, tqdm\n",
    "from os import listdir, mkdir\n",
    "from os.path import join, isdir\n",
    "from ipywidgets import *\n",
    "from multiprocessing import Pool, Lock\n",
    "\n",
    "module_path = os.path.abspath(os.path.join('../python/python_src_preprocessing/src'))\n",
    "if module_path not in sys.path:\n",
    "    sys.path.append(module_path)\n",
    "    \n",
    "from utils.reader import get_all_trajectory_files, read_trajectory_file\n",
    "\n",
    "import preprocessing.preprocessing as processing\n",
    "import plotting.densitymap as plot\n",
    "\n",
    "%load_ext autoreload\n",
    "%autoreload 1\n",
    "%aimport preprocessing.preprocessing, plotting.densitymap\n",
    "\n",
    "%matplotlib inline"
   ]
  },
  {
   "cell_type": "markdown",
   "metadata": {},
   "source": [
    "# Search trajectory files and create output path"
   ]
  },
  {
   "cell_type": "code",
   "execution_count": 2,
   "metadata": {
    "ExecuteTime": {
     "end_time": "2019-08-22T13:11:50.225713Z",
     "start_time": "2019-08-22T13:11:50.219708Z"
    },
    "code_folding": [],
    "scrolled": false
   },
   "outputs": [],
   "source": [
    "# paramter\n",
    "input_path = 'check/outputs/obstacle'\n",
    "output_path = 'check/csvs/obstacle'\n",
    "experiments = get_all_trajectory_files(input_path)\n",
    "\n",
    "if not isdir(output_path):\n",
    "    mkdir(output_path)"
   ]
  },
  {
   "cell_type": "markdown",
   "metadata": {},
   "source": [
    "# Plot experiment trajectories"
   ]
  },
  {
   "cell_type": "code",
   "execution_count": 3,
   "metadata": {
    "ExecuteTime": {
     "end_time": "2019-08-22T13:11:53.555629Z",
     "start_time": "2019-08-22T13:11:53.548623Z"
    },
    "code_folding": []
   },
   "outputs": [],
   "source": [
    "# helper functions\n",
    "\n",
    "def toInch(pixel, dpi=92):\n",
    "    return pixel / dpi\n",
    "\n",
    "\n",
    "def plot_experiment(frame, ax):\n",
    "    # map p-ids to targets\n",
    "    for pId, group in frame.groupby('pedestrianId'):\n",
    "        data = group.loc[(group['x'] > 14.5) & (\n",
    "            group['x'] < 24.9) & (group['y'] < 8.7)]\n",
    "        ax.plot(data['x'], data['y'], zorder=1)\n",
    "\n",
    "    rect = matplot.Rectangle(\n",
    "        (18.49, 6.69), 2.4, 1, edgecolor='r', alpha=1, fill=False, zorder=2, linewidth=2)\n",
    "\n",
    "    ax.add_patch(rect)\n",
    "    ax.grid()\n",
    "    \n",
    "def common_start(sa, sb):\n",
    "    \"\"\" returns the longest common substring from the beginning of sa and sb \n",
    "    taken from https://stackoverflow.com/questions/18715688/find-common-substring-between-two-strings\n",
    "    \"\"\"\n",
    "    def _iter():\n",
    "        for a, b in zip(sa, sb):\n",
    "            if a == b:\n",
    "                yield a\n",
    "            else:\n",
    "                return\n",
    "\n",
    "    return ''.join(_iter())"
   ]
  },
  {
   "cell_type": "code",
   "execution_count": null,
   "metadata": {
    "code_folding": [],
    "scrolled": true
   },
   "outputs": [],
   "source": [
    "# plot all scenario trajectories to file\n",
    "# %%capture\n",
    "plots = len(experiments)\n",
    "rows = math.ceil(plots / 2.0)\n",
    "fig, ax = matplot.subplots(nrows=rows, ncols=2, figsize=(\n",
    "    toInch(1000), toInch(rows * 300)), dpi=92)\n",
    "\n",
    "ax = np.array(ax).flatten()\n",
    "\n",
    "for idx in range(plots):\n",
    "    experiment = experiments[idx]\n",
    "    directory = os.path.dirname(experiment)\n",
    "    name = os.path.basename(directory) #.split('_')[0]\n",
    "\n",
    "    ax[idx].set_title(name)\n",
    "\n",
    "    frame = read_trajectory_file(experiment)\n",
    "    plot_experiment(frame, ax[idx])\n",
    "\n",
    "fig.subplots_adjust(hspace=0.25)\n",
    "fig.savefig('vadere-scenario-trajectories.pdf', transparent=True)"
   ]
  },
  {
   "cell_type": "markdown",
   "metadata": {},
   "source": [
    "# Processing Experiments"
   ]
  },
  {
   "cell_type": "code",
   "execution_count": 5,
   "metadata": {
    "ExecuteTime": {
     "end_time": "2019-08-22T12:51:55.643333Z",
     "start_time": "2019-08-22T12:36:13.076115Z"
    },
    "code_folding": [],
    "scrolled": true
   },
   "outputs": [
    {
     "data": {
      "application/vnd.jupyter.widget-view+json": {
       "model_id": "13212b4852b64c17acbc04d1c42061f6",
       "version_major": 2,
       "version_minor": 0
      },
      "text/plain": [
       "HBox(children=(IntProgress(value=0, description='process files', max=21, style=ProgressStyle(description_width…"
      ]
     },
     "metadata": {},
     "output_type": "display_data"
    },
    {
     "name": "stdout",
     "output_type": "stream",
     "text": [
      "skipping ORG-KO-240-050-240_2019-06-10_19-37-23.864\n",
      "using every  1 timestep, # of used timesteps 703 , # of total timesteps 703 image size (10, 24)\n"
     ]
    },
    {
     "name": "stderr",
     "output_type": "stream",
     "text": [
      "100%|████████████████████████████████████████████████████████████████████████████████| 703/703 [00:26<00:00, 12.05it/s]\n"
     ]
    },
    {
     "name": "stdout",
     "output_type": "stream",
     "text": [
      "using every  1 timestep, # of used timesteps 705 , # of total timesteps 705 image size (10, 24)\n"
     ]
    },
    {
     "name": "stderr",
     "output_type": "stream",
     "text": [
      "100%|████████████████████████████████████████████████████████████████████████████████| 705/705 [00:27<00:00, 11.71it/s]\n"
     ]
    },
    {
     "name": "stdout",
     "output_type": "stream",
     "text": [
      "using every  1 timestep, # of used timesteps 666 , # of total timesteps 666 image size (10, 24)\n"
     ]
    },
    {
     "name": "stderr",
     "output_type": "stream",
     "text": [
      "100%|████████████████████████████████████████████████████████████████████████████████| 666/666 [00:23<00:00, 13.38it/s]\n"
     ]
    },
    {
     "name": "stdout",
     "output_type": "stream",
     "text": [
      "using every  1 timestep, # of used timesteps 673 , # of total timesteps 673 image size (10, 24)\n"
     ]
    },
    {
     "name": "stderr",
     "output_type": "stream",
     "text": [
      "100%|████████████████████████████████████████████████████████████████████████████████| 673/673 [00:24<00:00, 27.83it/s]\n"
     ]
    },
    {
     "name": "stdout",
     "output_type": "stream",
     "text": [
      "using every  1 timestep, # of used timesteps 688 , # of total timesteps 688 image size (10, 24)\n"
     ]
    },
    {
     "name": "stderr",
     "output_type": "stream",
     "text": [
      "100%|████████████████████████████████████████████████████████████████████████████████| 688/688 [00:26<00:00, 26.10it/s]\n"
     ]
    },
    {
     "name": "stdout",
     "output_type": "stream",
     "text": [
      "using every  1 timestep, # of used timesteps 887 , # of total timesteps 887 image size (10, 24)\n"
     ]
    },
    {
     "name": "stderr",
     "output_type": "stream",
     "text": [
      "100%|████████████████████████████████████████████████████████████████████████████████| 887/887 [00:47<00:00,  8.65it/s]\n"
     ]
    },
    {
     "name": "stdout",
     "output_type": "stream",
     "text": [
      "using every  1 timestep, # of used timesteps 862 , # of total timesteps 862 image size (10, 24)\n"
     ]
    },
    {
     "name": "stderr",
     "output_type": "stream",
     "text": [
      "100%|████████████████████████████████████████████████████████████████████████████████| 862/862 [00:46<00:00, 18.68it/s]\n"
     ]
    },
    {
     "name": "stdout",
     "output_type": "stream",
     "text": [
      "using every  1 timestep, # of used timesteps 873 , # of total timesteps 873 image size (10, 24)\n"
     ]
    },
    {
     "name": "stderr",
     "output_type": "stream",
     "text": [
      "100%|████████████████████████████████████████████████████████████████████████████████| 873/873 [00:45<00:00,  8.68it/s]\n"
     ]
    },
    {
     "name": "stdout",
     "output_type": "stream",
     "text": [
      "using every  1 timestep, # of used timesteps 778 , # of total timesteps 778 image size (10, 24)\n"
     ]
    },
    {
     "name": "stderr",
     "output_type": "stream",
     "text": [
      "100%|████████████████████████████████████████████████████████████████████████████████| 778/778 [00:35<00:00, 10.56it/s]\n"
     ]
    },
    {
     "name": "stdout",
     "output_type": "stream",
     "text": [
      "using every  1 timestep, # of used timesteps 768 , # of total timesteps 768 image size (10, 24)\n"
     ]
    },
    {
     "name": "stderr",
     "output_type": "stream",
     "text": [
      "100%|████████████████████████████████████████████████████████████████████████████████| 768/768 [00:35<00:00, 21.82it/s]\n"
     ]
    },
    {
     "name": "stdout",
     "output_type": "stream",
     "text": [
      "using every  1 timestep, # of used timesteps 779 , # of total timesteps 779 image size (10, 24)\n"
     ]
    },
    {
     "name": "stderr",
     "output_type": "stream",
     "text": [
      "100%|████████████████████████████████████████████████████████████████████████████████| 779/779 [00:35<00:00, 22.06it/s]\n"
     ]
    },
    {
     "name": "stdout",
     "output_type": "stream",
     "text": [
      "using every  1 timestep, # of used timesteps 983 , # of total timesteps 983 image size (10, 24)\n"
     ]
    },
    {
     "name": "stderr",
     "output_type": "stream",
     "text": [
      "100%|████████████████████████████████████████████████████████████████████████████████| 983/983 [01:02<00:00,  6.97it/s]\n"
     ]
    },
    {
     "name": "stdout",
     "output_type": "stream",
     "text": [
      "using every  1 timestep, # of used timesteps 981 , # of total timesteps 981 image size (10, 24)\n"
     ]
    },
    {
     "name": "stderr",
     "output_type": "stream",
     "text": [
      "100%|████████████████████████████████████████████████████████████████████████████████| 981/981 [01:01<00:00,  7.54it/s]\n"
     ]
    },
    {
     "name": "stdout",
     "output_type": "stream",
     "text": [
      "using every  1 timestep, # of used timesteps 957 , # of total timesteps 957 image size (10, 24)\n"
     ]
    },
    {
     "name": "stderr",
     "output_type": "stream",
     "text": [
      "100%|████████████████████████████████████████████████████████████████████████████████| 957/957 [00:59<00:00,  7.33it/s]\n"
     ]
    },
    {
     "name": "stdout",
     "output_type": "stream",
     "text": [
      "using every  1 timestep, # of used timesteps 958 , # of total timesteps 958 image size (10, 24)\n"
     ]
    },
    {
     "name": "stderr",
     "output_type": "stream",
     "text": [
      "100%|████████████████████████████████████████████████████████████████████████████████| 958/958 [01:00<00:00,  7.62it/s]\n"
     ]
    },
    {
     "name": "stdout",
     "output_type": "stream",
     "text": [
      "using every  1 timestep, # of used timesteps 948 , # of total timesteps 948 image size (10, 24)\n"
     ]
    },
    {
     "name": "stderr",
     "output_type": "stream",
     "text": [
      "100%|████████████████████████████████████████████████████████████████████████████████| 948/948 [01:01<00:00,  7.01it/s]\n"
     ]
    },
    {
     "name": "stdout",
     "output_type": "stream",
     "text": [
      "using every  1 timestep, # of used timesteps 960 , # of total timesteps 960 image size (10, 24)\n"
     ]
    },
    {
     "name": "stderr",
     "output_type": "stream",
     "text": [
      "100%|████████████████████████████████████████████████████████████████████████████████| 960/960 [01:03<00:00,  6.47it/s]\n"
     ]
    },
    {
     "name": "stdout",
     "output_type": "stream",
     "text": [
      "using every  1 timestep, # of used timesteps 947 , # of total timesteps 947 image size (10, 24)\n"
     ]
    },
    {
     "name": "stderr",
     "output_type": "stream",
     "text": [
      "100%|████████████████████████████████████████████████████████████████████████████████| 947/947 [01:03<00:00,  5.92it/s]\n"
     ]
    },
    {
     "name": "stdout",
     "output_type": "stream",
     "text": [
      "using every  1 timestep, # of used timesteps 946 , # of total timesteps 946 image size (10, 24)\n"
     ]
    },
    {
     "name": "stderr",
     "output_type": "stream",
     "text": [
      "100%|████████████████████████████████████████████████████████████████████████████████| 946/946 [01:03<00:00,  6.48it/s]\n"
     ]
    },
    {
     "name": "stdout",
     "output_type": "stream",
     "text": [
      "using every  1 timestep, # of used timesteps 919 , # of total timesteps 919 image size (10, 24)\n"
     ]
    },
    {
     "name": "stderr",
     "output_type": "stream",
     "text": [
      "100%|████████████████████████████████████████████████████████████████████████████████| 919/919 [01:00<00:00,  7.37it/s]\n"
     ]
    }
   ],
   "source": [
    "# processing experiments\n",
    "\n",
    "results = []\n",
    "for experiment in tqdm_notebook(experiments, desc='process files'):\n",
    "    directory = os.path.dirname(experiment)\n",
    "    name = os.path.basename(directory)\n",
    "\n",
    "    if os.path.exists(join(output_path, name + '.csv')):\n",
    "        print('skipping', name)\n",
    "        continue\n",
    "\n",
    "    frame = read_trajectory_file(experiment)\n",
    "    pId2Target = {r['pedestrianId']: r['sourceId'] for i, r in pd.read_csv(\n",
    "        join(directory, 'sources.csv'), sep=' ', skiprows=1, header=None, names=['pedestrianId', 'sourceId']).iterrows()}\n",
    "    context = dict({\n",
    "        'name': name,\n",
    "        'targets': [1, 2],\n",
    "        'area':  [18.50, 6.7, 2.4, 1],\n",
    "        'exact': True,\n",
    "        'sigma': 0.7,\n",
    "        'resolution': 0.1,\n",
    "        'pedestrian_radius': 0.195,\n",
    "        'gauss_bounds': 2,\n",
    "        'pId2Target': pId2Target,\n",
    "        'processors': [\n",
    "            processing.process_densities,\n",
    "            processing.process_pedestrians,\n",
    "            processing.process_percentiles\n",
    "        ],\n",
    "        'number_of_cores': 5,\n",
    "        'skip': 1\n",
    "    })\n",
    "    context = processing.process_experiment(frame, context)\n",
    "    results.append(context)\n",
    "\n",
    "    densities = np.array(context.get('densities'))\n",
    "    # sort by timestep number\n",
    "    densities = densities[densities[:,0].argsort()]\n",
    "    with open(join(output_path, name + '.csv'), mode='w') as file:\n",
    "        for density in densities:\n",
    "            file.write(\n",
    "                ';'.join(map(lambda r: \"{:.10f}\".format(r), density[1:])) + '\\n')\n",
    "\n",
    "        file.flush()\n",
    "        "
   ]
  },
  {
   "cell_type": "markdown",
   "metadata": {},
   "source": [
    "# Interactive plot of density images\n",
    "<font color='red' size='5'><b>Important note:</b><br/>This requires that the result of the processed files (cell above) is still available</font>"
   ]
  },
  {
   "cell_type": "code",
   "execution_count": null,
   "metadata": {
    "code_folding": [
     0,
     3,
     7
    ]
   },
   "outputs": [],
   "source": [
    "# interactive density maps\n",
    "%matplotlib notebook\n",
    "\n",
    "def extrac_xy(pedestrians, x0, y0, resolution):\n",
    "    x = []\n",
    "    y = []\n",
    "\n",
    "    for _, ped in pedestrians.iterrows():\n",
    "        x.append(int(abs(ped['x'] - x0) * (1 / resolution)))\n",
    "        y.append(int(abs(ped['y'] - y0) * (1 / resolution)))\n",
    "\n",
    "    return x, y\n",
    "\n",
    "for result in results:\n",
    "    name = result.get('name')\n",
    "    densities = result.get('densities')\n",
    "    area = result.get('area')\n",
    "    peds = result.get('pedestrians')\n",
    "    size = result.get('size')\n",
    "    res = result.get('resolution')\n",
    "    t = len(result.get('targets'))\n",
    "\n",
    "    start = 0\n",
    "\n",
    "    first = densities[start][:-t].reshape(size)\n",
    "\n",
    "    fig, ax = matplot.subplots()\n",
    "\n",
    "    cbar = None\n",
    "\n",
    "    ax.set_xticks(np.linspace(0, len(first[0]) - 1, 13))\n",
    "    ax.set_xticklabels([0, 0.2, 0.4, 0.6, 0.8, 1.0, 1.2,\n",
    "                        1.4, 1.6, 1.8, 2.0, 2.2, 2.4])\n",
    "\n",
    "    ax.set_yticks(np.linspace(0, len(first) - 1, 6))\n",
    "    ax.set_yticklabels([0, 0.2, 0.4, 0.6, 0.8, 1.0])\n",
    "\n",
    "    def update(frame):\n",
    "        global cbar\n",
    "        f = densities[frame][:-t].reshape(size)\n",
    "\n",
    "        ax.clear()\n",
    "        if cbar is not None:\n",
    "            cbar.remove()\n",
    "\n",
    "        img = ax.imshow(f, interpolation='Nearest')\n",
    "        cbar = fig.colorbar(img)\n",
    "\n",
    "        x, y = extrac_xy(peds[frame], area[0], area[1], res)\n",
    "\n",
    "        ax.plot(x, y, '.r', markersize=10)\n",
    "\n",
    "        ax.set_xticks(np.linspace(0, len(first[0]) - 1, 13))\n",
    "        ax.set_xticklabels([0, 0.2, 0.4, 0.6, 0.8, 1.0,\n",
    "                            1.2, 1.4, 1.6, 1.8, 2.0, 2.2, 2.4])\n",
    "\n",
    "        ax.set_yticks(np.linspace(0, len(first) - 1, 6))\n",
    "        ax.set_yticklabels([0, 0.2, 0.4, 0.6, 0.8, 1.0])\n",
    "\n",
    "    interact(update, frame=widgets.IntSlider(\n",
    "        min=0, max=len(densities)-1, step=1, value=start))\n",
    "\n",
    "    break"
   ]
  },
  {
   "cell_type": "markdown",
   "metadata": {},
   "source": [
    "# Aggregate unfiltered density distributions"
   ]
  },
  {
   "cell_type": "code",
   "execution_count": 10,
   "metadata": {
    "ExecuteTime": {
     "end_time": "2019-08-22T13:03:11.203522Z",
     "start_time": "2019-08-22T13:03:10.368231Z"
    },
    "code_folding": [],
    "scrolled": true
   },
   "outputs": [
    {
     "data": {
      "application/vnd.jupyter.widget-view+json": {
       "model_id": "95cfe7d510a3463fa17a3afaa187617b",
       "version_major": 2,
       "version_minor": 0
      },
      "text/plain": [
       "HBox(children=(IntProgress(value=0, description='Loading density maps', max=21, style=ProgressStyle(descriptio…"
      ]
     },
     "metadata": {},
     "output_type": "display_data"
    },
    {
     "name": "stdout",
     "output_type": "stream",
     "text": [
      "(14714, 2)\n"
     ]
    },
    {
     "data": {
      "text/html": [
       "<div>\n",
       "<style scoped>\n",
       "    .dataframe tbody tr th:only-of-type {\n",
       "        vertical-align: middle;\n",
       "    }\n",
       "\n",
       "    .dataframe tbody tr th {\n",
       "        vertical-align: top;\n",
       "    }\n",
       "\n",
       "    .dataframe thead th {\n",
       "        text-align: right;\n",
       "    }\n",
       "</style>\n",
       "<table border=\"1\" class=\"dataframe\">\n",
       "  <thead>\n",
       "    <tr style=\"text-align: right;\">\n",
       "      <th></th>\n",
       "      <th>240</th>\n",
       "      <th>241</th>\n",
       "      <th>frames</th>\n",
       "    </tr>\n",
       "  </thead>\n",
       "  <tbody>\n",
       "    <tr>\n",
       "      <th>0</th>\n",
       "      <td>0.000000</td>\n",
       "      <td>1.000000</td>\n",
       "      <td>1180</td>\n",
       "    </tr>\n",
       "    <tr>\n",
       "      <th>1</th>\n",
       "      <td>0.125000</td>\n",
       "      <td>0.875000</td>\n",
       "      <td>3</td>\n",
       "    </tr>\n",
       "    <tr>\n",
       "      <th>2</th>\n",
       "      <td>0.142857</td>\n",
       "      <td>0.857143</td>\n",
       "      <td>10</td>\n",
       "    </tr>\n",
       "    <tr>\n",
       "      <th>3</th>\n",
       "      <td>0.166667</td>\n",
       "      <td>0.833333</td>\n",
       "      <td>112</td>\n",
       "    </tr>\n",
       "    <tr>\n",
       "      <th>4</th>\n",
       "      <td>0.200000</td>\n",
       "      <td>0.800000</td>\n",
       "      <td>399</td>\n",
       "    </tr>\n",
       "    <tr>\n",
       "      <th>5</th>\n",
       "      <td>0.222222</td>\n",
       "      <td>0.777778</td>\n",
       "      <td>2</td>\n",
       "    </tr>\n",
       "    <tr>\n",
       "      <th>6</th>\n",
       "      <td>0.250000</td>\n",
       "      <td>0.750000</td>\n",
       "      <td>794</td>\n",
       "    </tr>\n",
       "    <tr>\n",
       "      <th>7</th>\n",
       "      <td>0.285714</td>\n",
       "      <td>0.714286</td>\n",
       "      <td>107</td>\n",
       "    </tr>\n",
       "    <tr>\n",
       "      <th>8</th>\n",
       "      <td>0.333333</td>\n",
       "      <td>0.666667</td>\n",
       "      <td>1592</td>\n",
       "    </tr>\n",
       "    <tr>\n",
       "      <th>9</th>\n",
       "      <td>0.375000</td>\n",
       "      <td>0.625000</td>\n",
       "      <td>41</td>\n",
       "    </tr>\n",
       "    <tr>\n",
       "      <th>10</th>\n",
       "      <td>0.400000</td>\n",
       "      <td>0.600000</td>\n",
       "      <td>1020</td>\n",
       "    </tr>\n",
       "    <tr>\n",
       "      <th>11</th>\n",
       "      <td>0.428571</td>\n",
       "      <td>0.571429</td>\n",
       "      <td>250</td>\n",
       "    </tr>\n",
       "    <tr>\n",
       "      <th>12</th>\n",
       "      <td>0.444444</td>\n",
       "      <td>0.555556</td>\n",
       "      <td>6</td>\n",
       "    </tr>\n",
       "    <tr>\n",
       "      <th>13</th>\n",
       "      <td>0.500000</td>\n",
       "      <td>0.500000</td>\n",
       "      <td>3300</td>\n",
       "    </tr>\n",
       "    <tr>\n",
       "      <th>14</th>\n",
       "      <td>0.555556</td>\n",
       "      <td>0.444444</td>\n",
       "      <td>8</td>\n",
       "    </tr>\n",
       "    <tr>\n",
       "      <th>15</th>\n",
       "      <td>0.571429</td>\n",
       "      <td>0.428571</td>\n",
       "      <td>195</td>\n",
       "    </tr>\n",
       "    <tr>\n",
       "      <th>16</th>\n",
       "      <td>0.600000</td>\n",
       "      <td>0.400000</td>\n",
       "      <td>1122</td>\n",
       "    </tr>\n",
       "    <tr>\n",
       "      <th>17</th>\n",
       "      <td>0.625000</td>\n",
       "      <td>0.375000</td>\n",
       "      <td>37</td>\n",
       "    </tr>\n",
       "    <tr>\n",
       "      <th>18</th>\n",
       "      <td>0.666667</td>\n",
       "      <td>0.333333</td>\n",
       "      <td>1755</td>\n",
       "    </tr>\n",
       "    <tr>\n",
       "      <th>19</th>\n",
       "      <td>0.714286</td>\n",
       "      <td>0.285714</td>\n",
       "      <td>91</td>\n",
       "    </tr>\n",
       "    <tr>\n",
       "      <th>20</th>\n",
       "      <td>0.750000</td>\n",
       "      <td>0.250000</td>\n",
       "      <td>855</td>\n",
       "    </tr>\n",
       "    <tr>\n",
       "      <th>21</th>\n",
       "      <td>0.800000</td>\n",
       "      <td>0.200000</td>\n",
       "      <td>381</td>\n",
       "    </tr>\n",
       "    <tr>\n",
       "      <th>22</th>\n",
       "      <td>0.833333</td>\n",
       "      <td>0.166667</td>\n",
       "      <td>92</td>\n",
       "    </tr>\n",
       "    <tr>\n",
       "      <th>23</th>\n",
       "      <td>0.857143</td>\n",
       "      <td>0.142857</td>\n",
       "      <td>19</td>\n",
       "    </tr>\n",
       "    <tr>\n",
       "      <th>24</th>\n",
       "      <td>0.875000</td>\n",
       "      <td>0.125000</td>\n",
       "      <td>5</td>\n",
       "    </tr>\n",
       "    <tr>\n",
       "      <th>25</th>\n",
       "      <td>1.000000</td>\n",
       "      <td>0.000000</td>\n",
       "      <td>1338</td>\n",
       "    </tr>\n",
       "  </tbody>\n",
       "</table>\n",
       "</div>"
      ],
      "text/plain": [
       "         240       241  frames\n",
       "0   0.000000  1.000000    1180\n",
       "1   0.125000  0.875000       3\n",
       "2   0.142857  0.857143      10\n",
       "3   0.166667  0.833333     112\n",
       "4   0.200000  0.800000     399\n",
       "5   0.222222  0.777778       2\n",
       "6   0.250000  0.750000     794\n",
       "7   0.285714  0.714286     107\n",
       "8   0.333333  0.666667    1592\n",
       "9   0.375000  0.625000      41\n",
       "10  0.400000  0.600000    1020\n",
       "11  0.428571  0.571429     250\n",
       "12  0.444444  0.555556       6\n",
       "13  0.500000  0.500000    3300\n",
       "14  0.555556  0.444444       8\n",
       "15  0.571429  0.428571     195\n",
       "16  0.600000  0.400000    1122\n",
       "17  0.625000  0.375000      37\n",
       "18  0.666667  0.333333    1755\n",
       "19  0.714286  0.285714      91\n",
       "20  0.750000  0.250000     855\n",
       "21  0.800000  0.200000     381\n",
       "22  0.833333  0.166667      92\n",
       "23  0.857143  0.142857      19\n",
       "24  0.875000  0.125000       5\n",
       "25  1.000000  0.000000    1338"
      ]
     },
     "metadata": {},
     "output_type": "display_data"
    }
   ],
   "source": [
    "# aggregate distributions\n",
    "\n",
    "# output_p = 'juelich-vadere/output_01_save/'\n",
    "outputs = list(filter(lambda o: os.path.isfile(os.path.join(output_path, o)) and 'filtered' not in o, os.listdir(output_path)))\n",
    "dfs = []\n",
    "for output in tqdm_notebook(outputs, desc=\"Loading density maps\", total=len(outputs)):\n",
    "    dfs.append(pd.read_csv(os.path.join(\n",
    "        output_path, output), sep=';', header=None))\n",
    "\n",
    "frame = pd.concat([df.iloc[:, -2:] for df in dfs], sort=False)\n",
    "print(frame.shape)\n",
    "display(frame.groupby(list(frame.columns), as_index=False).size().to_frame(\n",
    "    'frames').reset_index())"
   ]
  },
  {
   "cell_type": "markdown",
   "metadata": {},
   "source": [
    "# Filter duplicated images"
   ]
  },
  {
   "cell_type": "code",
   "execution_count": 11,
   "metadata": {
    "ExecuteTime": {
     "end_time": "2019-08-22T13:03:39.494991Z",
     "start_time": "2019-08-22T13:03:38.856410Z"
    },
    "code_folding": [],
    "scrolled": true
   },
   "outputs": [
    {
     "data": {
      "application/vnd.jupyter.widget-view+json": {
       "model_id": "7cc2caf212ba46feb1436d63d9943362",
       "version_major": 2,
       "version_minor": 0
      },
      "text/plain": [
       "HBox(children=(IntProgress(value=0, description='filter density maps', max=21, style=ProgressStyle(description…"
      ]
     },
     "metadata": {},
     "output_type": "display_data"
    },
    {
     "name": "stdout",
     "output_type": "stream",
     "text": [
      "ORG-KO-240-050-240_2019-06-10_19-37-23.864.csv 247 lines written, 326 lines skipped\n",
      "ORG-KO-240-050-240_2019-06-28_19-17-42.661.csv 244 lines written, 310 lines skipped\n",
      "ORG-KO-240-050-240_2019-06-28_19-26-52.509.csv 256 lines written, 299 lines skipped\n",
      "ORG-KO-240-060-240_2019-06-10_19-38-06.167.csv 229 lines written, 292 lines skipped\n",
      "ORG-KO-240-060-240_2019-06-28_19-18-23.76.csv 227 lines written, 295 lines skipped\n",
      "ORG-KO-240-060-240_2019-06-28_19-27-35.805.csv 229 lines written, 319 lines skipped\n",
      "ORG-KO-240-080-240_2019-06-10_19-38-44.260.csv 385 lines written, 357 lines skipped\n",
      "ORG-KO-240-080-240_2019-06-28_19-19-01.83.csv 385 lines written, 343 lines skipped\n",
      "ORG-KO-240-080-240_2019-06-28_19-28-16.408.csv 366 lines written, 359 lines skipped\n",
      "ORG-KO-240-100-240_2019-06-10_19-39-52.891.csv 323 lines written, 318 lines skipped\n",
      "ORG-KO-240-100-240_2019-06-28_19-20-11.545.csv 345 lines written, 276 lines skipped\n",
      "ORG-KO-240-100-240_2019-06-28_19-29-28.361.csv 352 lines written, 281 lines skipped\n",
      "ORG-KO-240-120-240_2019-06-10_19-40-51.905.csv 487 lines written, 350 lines skipped\n",
      "ORG-KO-240-120-240_2019-06-28_19-21-11.141.csv 477 lines written, 361 lines skipped\n",
      "ORG-KO-240-120-240_2019-06-28_19-30-30.488.csv 486 lines written, 334 lines skipped\n",
      "ORG-KO-240-150-240_2019-06-10_19-42-36.540.csv 497 lines written, 324 lines skipped\n",
      "ORG-KO-240-150-240_2019-06-28_19-22-59.7.csv 478 lines written, 335 lines skipped\n",
      "ORG-KO-240-150-240_2019-06-28_19-32-21.415.csv 476 lines written, 350 lines skipped\n",
      "ORG-KO-240-240-240_2019-04-24_17-43-58.231.csv 465 lines written, 343 lines skipped\n",
      "ORG-KO-240-240-240_2019-06-28_19-24-47.252.csv 480 lines written, 322 lines skipped\n",
      "ORG-KO-240-240-240_2019-06-28_19-34-11.853.csv 461 lines written, 325 lines skipped\n"
     ]
    }
   ],
   "source": [
    "# filter consecutive duplicates\n",
    "\n",
    "outputs = list(filter(lambda o: os.path.isfile(os.path.join(output_path, o)) and 'filtered' not in o, os.listdir(output_path)))\n",
    "\n",
    "for output in tqdm_notebook(outputs, desc=\"filter density maps\"):\n",
    "    last = None\n",
    "    skipped = 0\n",
    "    written = 0\n",
    "    with open(os.path.join(output_path, output), \"r\") as full:\n",
    "        with open(os.path.join(output_path, output[:-4] + '_filtered.csv'), \"w\") as filtered:\n",
    "            for line in full:\n",
    "                if line != last:\n",
    "                    filtered.write(line)\n",
    "                    last = line\n",
    "                    written = written + 1\n",
    "                    continue\n",
    "\n",
    "                skipped = skipped + 1\n",
    "    print(output, written, 'lines written,', skipped, 'lines skipped')"
   ]
  },
  {
   "cell_type": "markdown",
   "metadata": {},
   "source": [
    "# Combine images"
   ]
  },
  {
   "cell_type": "code",
   "execution_count": null,
   "metadata": {
    "code_folding": [],
    "scrolled": true
   },
   "outputs": [],
   "source": [
    "# combine images of same scenario types\n",
    "\n",
    "# navigation\n",
    "outputs = list(filter(lambda o: 'filtered' in o and 'navigation' in o, os.listdir(os.path.join(output_path, 'navigation'))))\n",
    "pd.concat( [ pd.read_csv(os.path.join(output_path, f)) for f in outputs ], sort=False ).to_csv( os.path.join(output_path, 'navigation', 'combined.csv'), index=False)\n",
    "\n",
    "# unit\n",
    "outputs = list(filter(lambda o: 'filtered' in o and 'unit' in o, os.listdir(os.path.join(output_path, 'unit'))))\n",
    "pd.concat( [ pd.read_csv(os.path.join(output_path, f)) for f in outputs ], sort=False ).to_csv( os.path.join(output_path, 'unit', 'combined.csv'), index=False)\n",
    "\n",
    "# obstacle weight 0.3\n",
    "outputs = list(filter(lambda o: ('filtered' in o) and ('navigation' not in o) and ('unit' not in o), os.listdir(os.path.join(output_path, 'obstacle'))))\n",
    "pd.concat( [ pd.read_csv(os.path.join(output_path, f)) for f in outputs ], sort=False ).to_csv( os.path.join(output_path,'obstacle', 'combined.csv'), index=False)"
   ]
  },
  {
   "cell_type": "markdown",
   "metadata": {},
   "source": [
    "# Aggregate filtered density distributions"
   ]
  },
  {
   "cell_type": "code",
   "execution_count": 12,
   "metadata": {
    "ExecuteTime": {
     "end_time": "2019-08-22T13:04:57.891521Z",
     "start_time": "2019-08-22T13:04:57.330504Z"
    },
    "code_folding": [],
    "scrolled": true
   },
   "outputs": [
    {
     "data": {
      "application/vnd.jupyter.widget-view+json": {
       "model_id": "cbdd201d776644f4bec9c9f95f37a13e",
       "version_major": 2,
       "version_minor": 0
      },
      "text/plain": [
       "HBox(children=(IntProgress(value=0, description='Loading density maps', max=21, style=ProgressStyle(descriptio…"
      ]
     },
     "metadata": {},
     "output_type": "display_data"
    },
    {
     "name": "stdout",
     "output_type": "stream",
     "text": [
      "(7895, 2)\n"
     ]
    },
    {
     "data": {
      "text/html": [
       "<div>\n",
       "<style scoped>\n",
       "    .dataframe tbody tr th:only-of-type {\n",
       "        vertical-align: middle;\n",
       "    }\n",
       "\n",
       "    .dataframe tbody tr th {\n",
       "        vertical-align: top;\n",
       "    }\n",
       "\n",
       "    .dataframe thead th {\n",
       "        text-align: right;\n",
       "    }\n",
       "</style>\n",
       "<table border=\"1\" class=\"dataframe\">\n",
       "  <thead>\n",
       "    <tr style=\"text-align: right;\">\n",
       "      <th></th>\n",
       "      <th>240</th>\n",
       "      <th>241</th>\n",
       "      <th>frames</th>\n",
       "    </tr>\n",
       "  </thead>\n",
       "  <tbody>\n",
       "    <tr>\n",
       "      <th>0</th>\n",
       "      <td>0.000000</td>\n",
       "      <td>1.000000</td>\n",
       "      <td>557</td>\n",
       "    </tr>\n",
       "    <tr>\n",
       "      <th>1</th>\n",
       "      <td>0.125000</td>\n",
       "      <td>0.875000</td>\n",
       "      <td>2</td>\n",
       "    </tr>\n",
       "    <tr>\n",
       "      <th>2</th>\n",
       "      <td>0.142857</td>\n",
       "      <td>0.857143</td>\n",
       "      <td>7</td>\n",
       "    </tr>\n",
       "    <tr>\n",
       "      <th>3</th>\n",
       "      <td>0.166667</td>\n",
       "      <td>0.833333</td>\n",
       "      <td>70</td>\n",
       "    </tr>\n",
       "    <tr>\n",
       "      <th>4</th>\n",
       "      <td>0.200000</td>\n",
       "      <td>0.800000</td>\n",
       "      <td>245</td>\n",
       "    </tr>\n",
       "    <tr>\n",
       "      <th>5</th>\n",
       "      <td>0.222222</td>\n",
       "      <td>0.777778</td>\n",
       "      <td>1</td>\n",
       "    </tr>\n",
       "    <tr>\n",
       "      <th>6</th>\n",
       "      <td>0.250000</td>\n",
       "      <td>0.750000</td>\n",
       "      <td>444</td>\n",
       "    </tr>\n",
       "    <tr>\n",
       "      <th>7</th>\n",
       "      <td>0.285714</td>\n",
       "      <td>0.714286</td>\n",
       "      <td>64</td>\n",
       "    </tr>\n",
       "    <tr>\n",
       "      <th>8</th>\n",
       "      <td>0.333333</td>\n",
       "      <td>0.666667</td>\n",
       "      <td>853</td>\n",
       "    </tr>\n",
       "    <tr>\n",
       "      <th>9</th>\n",
       "      <td>0.375000</td>\n",
       "      <td>0.625000</td>\n",
       "      <td>23</td>\n",
       "    </tr>\n",
       "    <tr>\n",
       "      <th>10</th>\n",
       "      <td>0.400000</td>\n",
       "      <td>0.600000</td>\n",
       "      <td>592</td>\n",
       "    </tr>\n",
       "    <tr>\n",
       "      <th>11</th>\n",
       "      <td>0.428571</td>\n",
       "      <td>0.571429</td>\n",
       "      <td>154</td>\n",
       "    </tr>\n",
       "    <tr>\n",
       "      <th>12</th>\n",
       "      <td>0.444444</td>\n",
       "      <td>0.555556</td>\n",
       "      <td>3</td>\n",
       "    </tr>\n",
       "    <tr>\n",
       "      <th>13</th>\n",
       "      <td>0.500000</td>\n",
       "      <td>0.500000</td>\n",
       "      <td>1759</td>\n",
       "    </tr>\n",
       "    <tr>\n",
       "      <th>14</th>\n",
       "      <td>0.555556</td>\n",
       "      <td>0.444444</td>\n",
       "      <td>4</td>\n",
       "    </tr>\n",
       "    <tr>\n",
       "      <th>15</th>\n",
       "      <td>0.571429</td>\n",
       "      <td>0.428571</td>\n",
       "      <td>111</td>\n",
       "    </tr>\n",
       "    <tr>\n",
       "      <th>16</th>\n",
       "      <td>0.600000</td>\n",
       "      <td>0.400000</td>\n",
       "      <td>652</td>\n",
       "    </tr>\n",
       "    <tr>\n",
       "      <th>17</th>\n",
       "      <td>0.625000</td>\n",
       "      <td>0.375000</td>\n",
       "      <td>22</td>\n",
       "    </tr>\n",
       "    <tr>\n",
       "      <th>18</th>\n",
       "      <td>0.666667</td>\n",
       "      <td>0.333333</td>\n",
       "      <td>931</td>\n",
       "    </tr>\n",
       "    <tr>\n",
       "      <th>19</th>\n",
       "      <td>0.714286</td>\n",
       "      <td>0.285714</td>\n",
       "      <td>54</td>\n",
       "    </tr>\n",
       "    <tr>\n",
       "      <th>20</th>\n",
       "      <td>0.750000</td>\n",
       "      <td>0.250000</td>\n",
       "      <td>469</td>\n",
       "    </tr>\n",
       "    <tr>\n",
       "      <th>21</th>\n",
       "      <td>0.800000</td>\n",
       "      <td>0.200000</td>\n",
       "      <td>220</td>\n",
       "    </tr>\n",
       "    <tr>\n",
       "      <th>22</th>\n",
       "      <td>0.833333</td>\n",
       "      <td>0.166667</td>\n",
       "      <td>57</td>\n",
       "    </tr>\n",
       "    <tr>\n",
       "      <th>23</th>\n",
       "      <td>0.857143</td>\n",
       "      <td>0.142857</td>\n",
       "      <td>11</td>\n",
       "    </tr>\n",
       "    <tr>\n",
       "      <th>24</th>\n",
       "      <td>0.875000</td>\n",
       "      <td>0.125000</td>\n",
       "      <td>4</td>\n",
       "    </tr>\n",
       "    <tr>\n",
       "      <th>25</th>\n",
       "      <td>1.000000</td>\n",
       "      <td>0.000000</td>\n",
       "      <td>586</td>\n",
       "    </tr>\n",
       "  </tbody>\n",
       "</table>\n",
       "</div>"
      ],
      "text/plain": [
       "         240       241  frames\n",
       "0   0.000000  1.000000     557\n",
       "1   0.125000  0.875000       2\n",
       "2   0.142857  0.857143       7\n",
       "3   0.166667  0.833333      70\n",
       "4   0.200000  0.800000     245\n",
       "5   0.222222  0.777778       1\n",
       "6   0.250000  0.750000     444\n",
       "7   0.285714  0.714286      64\n",
       "8   0.333333  0.666667     853\n",
       "9   0.375000  0.625000      23\n",
       "10  0.400000  0.600000     592\n",
       "11  0.428571  0.571429     154\n",
       "12  0.444444  0.555556       3\n",
       "13  0.500000  0.500000    1759\n",
       "14  0.555556  0.444444       4\n",
       "15  0.571429  0.428571     111\n",
       "16  0.600000  0.400000     652\n",
       "17  0.625000  0.375000      22\n",
       "18  0.666667  0.333333     931\n",
       "19  0.714286  0.285714      54\n",
       "20  0.750000  0.250000     469\n",
       "21  0.800000  0.200000     220\n",
       "22  0.833333  0.166667      57\n",
       "23  0.857143  0.142857      11\n",
       "24  0.875000  0.125000       4\n",
       "25  1.000000  0.000000     586"
      ]
     },
     "metadata": {},
     "output_type": "display_data"
    }
   ],
   "source": [
    "# aggregate distributions\n",
    "\n",
    "# output_p = 'juelich-vadere/output_01_save/'\n",
    "# for t in ['navigation', 'unit', 'obstacle']:\n",
    "outputs = list(filter(lambda o: 'filtered' in o, os.listdir(os.path.join(output_path))))\n",
    "dfs = []\n",
    "for output in tqdm_notebook(outputs, desc=\"Loading density maps\", total=len(outputs)):\n",
    "    dfs.append(pd.read_csv(os.path.join(\n",
    "        output_path, output), sep=';', header=None))\n",
    "\n",
    "frame = pd.concat([df.iloc[:, -2:] for df in dfs], sort=False)\n",
    "print(frame.shape)\n",
    "frame = frame.groupby(list(frame.columns), as_index=False).size().to_frame(\n",
    "    'frames').reset_index()\n",
    "\n",
    "display(frame)"
   ]
  },
  {
   "cell_type": "markdown",
   "metadata": {},
   "source": [
    "# Filter 50/50 distributions"
   ]
  },
  {
   "cell_type": "code",
   "execution_count": 15,
   "metadata": {
    "ExecuteTime": {
     "end_time": "2019-08-22T13:06:52.431953Z",
     "start_time": "2019-08-22T13:06:51.437542Z"
    },
    "code_folding": [],
    "scrolled": true
   },
   "outputs": [
    {
     "data": {
      "application/vnd.jupyter.widget-view+json": {
       "model_id": "4cf3b9ae98554a54bc08e9ef211d1b1b",
       "version_major": 2,
       "version_minor": 0
      },
      "text/plain": [
       "HBox(children=(IntProgress(value=0, description='filter density distributions', max=21, style=ProgressStyle(de…"
      ]
     },
     "metadata": {},
     "output_type": "display_data"
    },
    {
     "name": "stdout",
     "output_type": "stream",
     "text": [
      "213 lines written, 34 lines skipped\n",
      "219 lines written, 25 lines skipped\n",
      "224 lines written, 32 lines skipped\n",
      "202 lines written, 27 lines skipped\n",
      "201 lines written, 26 lines skipped\n",
      "203 lines written, 26 lines skipped\n",
      "337 lines written, 48 lines skipped\n",
      "344 lines written, 41 lines skipped\n",
      "324 lines written, 42 lines skipped\n",
      "286 lines written, 37 lines skipped\n",
      "309 lines written, 36 lines skipped\n",
      "308 lines written, 44 lines skipped\n",
      "432 lines written, 55 lines skipped\n",
      "423 lines written, 54 lines skipped\n",
      "433 lines written, 53 lines skipped\n",
      "450 lines written, 47 lines skipped\n",
      "427 lines written, 51 lines skipped\n",
      "434 lines written, 42 lines skipped\n",
      "414 lines written, 51 lines skipped\n",
      "424 lines written, 56 lines skipped\n",
      "416 lines written, 45 lines skipped\n",
      "(7023, 2)\n"
     ]
    },
    {
     "data": {
      "text/html": [
       "<div>\n",
       "<style scoped>\n",
       "    .dataframe tbody tr th:only-of-type {\n",
       "        vertical-align: middle;\n",
       "    }\n",
       "\n",
       "    .dataframe tbody tr th {\n",
       "        vertical-align: top;\n",
       "    }\n",
       "\n",
       "    .dataframe thead th {\n",
       "        text-align: right;\n",
       "    }\n",
       "</style>\n",
       "<table border=\"1\" class=\"dataframe\">\n",
       "  <thead>\n",
       "    <tr style=\"text-align: right;\">\n",
       "      <th></th>\n",
       "      <th>240</th>\n",
       "      <th>241</th>\n",
       "      <th>frames</th>\n",
       "    </tr>\n",
       "  </thead>\n",
       "  <tbody>\n",
       "    <tr>\n",
       "      <th>0</th>\n",
       "      <td>0.000000</td>\n",
       "      <td>1.000000</td>\n",
       "      <td>557</td>\n",
       "    </tr>\n",
       "    <tr>\n",
       "      <th>1</th>\n",
       "      <td>0.125000</td>\n",
       "      <td>0.875000</td>\n",
       "      <td>2</td>\n",
       "    </tr>\n",
       "    <tr>\n",
       "      <th>2</th>\n",
       "      <td>0.142857</td>\n",
       "      <td>0.857143</td>\n",
       "      <td>7</td>\n",
       "    </tr>\n",
       "    <tr>\n",
       "      <th>3</th>\n",
       "      <td>0.166667</td>\n",
       "      <td>0.833333</td>\n",
       "      <td>70</td>\n",
       "    </tr>\n",
       "    <tr>\n",
       "      <th>4</th>\n",
       "      <td>0.200000</td>\n",
       "      <td>0.800000</td>\n",
       "      <td>245</td>\n",
       "    </tr>\n",
       "    <tr>\n",
       "      <th>5</th>\n",
       "      <td>0.222222</td>\n",
       "      <td>0.777778</td>\n",
       "      <td>1</td>\n",
       "    </tr>\n",
       "    <tr>\n",
       "      <th>6</th>\n",
       "      <td>0.250000</td>\n",
       "      <td>0.750000</td>\n",
       "      <td>444</td>\n",
       "    </tr>\n",
       "    <tr>\n",
       "      <th>7</th>\n",
       "      <td>0.285714</td>\n",
       "      <td>0.714286</td>\n",
       "      <td>64</td>\n",
       "    </tr>\n",
       "    <tr>\n",
       "      <th>8</th>\n",
       "      <td>0.333333</td>\n",
       "      <td>0.666667</td>\n",
       "      <td>853</td>\n",
       "    </tr>\n",
       "    <tr>\n",
       "      <th>9</th>\n",
       "      <td>0.375000</td>\n",
       "      <td>0.625000</td>\n",
       "      <td>23</td>\n",
       "    </tr>\n",
       "    <tr>\n",
       "      <th>10</th>\n",
       "      <td>0.400000</td>\n",
       "      <td>0.600000</td>\n",
       "      <td>592</td>\n",
       "    </tr>\n",
       "    <tr>\n",
       "      <th>11</th>\n",
       "      <td>0.428571</td>\n",
       "      <td>0.571429</td>\n",
       "      <td>154</td>\n",
       "    </tr>\n",
       "    <tr>\n",
       "      <th>12</th>\n",
       "      <td>0.444444</td>\n",
       "      <td>0.555556</td>\n",
       "      <td>3</td>\n",
       "    </tr>\n",
       "    <tr>\n",
       "      <th>13</th>\n",
       "      <td>0.500000</td>\n",
       "      <td>0.500000</td>\n",
       "      <td>887</td>\n",
       "    </tr>\n",
       "    <tr>\n",
       "      <th>14</th>\n",
       "      <td>0.555556</td>\n",
       "      <td>0.444444</td>\n",
       "      <td>4</td>\n",
       "    </tr>\n",
       "    <tr>\n",
       "      <th>15</th>\n",
       "      <td>0.571429</td>\n",
       "      <td>0.428571</td>\n",
       "      <td>111</td>\n",
       "    </tr>\n",
       "    <tr>\n",
       "      <th>16</th>\n",
       "      <td>0.600000</td>\n",
       "      <td>0.400000</td>\n",
       "      <td>652</td>\n",
       "    </tr>\n",
       "    <tr>\n",
       "      <th>17</th>\n",
       "      <td>0.625000</td>\n",
       "      <td>0.375000</td>\n",
       "      <td>22</td>\n",
       "    </tr>\n",
       "    <tr>\n",
       "      <th>18</th>\n",
       "      <td>0.666667</td>\n",
       "      <td>0.333333</td>\n",
       "      <td>931</td>\n",
       "    </tr>\n",
       "    <tr>\n",
       "      <th>19</th>\n",
       "      <td>0.714286</td>\n",
       "      <td>0.285714</td>\n",
       "      <td>54</td>\n",
       "    </tr>\n",
       "    <tr>\n",
       "      <th>20</th>\n",
       "      <td>0.750000</td>\n",
       "      <td>0.250000</td>\n",
       "      <td>469</td>\n",
       "    </tr>\n",
       "    <tr>\n",
       "      <th>21</th>\n",
       "      <td>0.800000</td>\n",
       "      <td>0.200000</td>\n",
       "      <td>220</td>\n",
       "    </tr>\n",
       "    <tr>\n",
       "      <th>22</th>\n",
       "      <td>0.833333</td>\n",
       "      <td>0.166667</td>\n",
       "      <td>57</td>\n",
       "    </tr>\n",
       "    <tr>\n",
       "      <th>23</th>\n",
       "      <td>0.857143</td>\n",
       "      <td>0.142857</td>\n",
       "      <td>11</td>\n",
       "    </tr>\n",
       "    <tr>\n",
       "      <th>24</th>\n",
       "      <td>0.875000</td>\n",
       "      <td>0.125000</td>\n",
       "      <td>4</td>\n",
       "    </tr>\n",
       "    <tr>\n",
       "      <th>25</th>\n",
       "      <td>1.000000</td>\n",
       "      <td>0.000000</td>\n",
       "      <td>586</td>\n",
       "    </tr>\n",
       "  </tbody>\n",
       "</table>\n",
       "</div>"
      ],
      "text/plain": [
       "         240       241  frames\n",
       "0   0.000000  1.000000     557\n",
       "1   0.125000  0.875000       2\n",
       "2   0.142857  0.857143       7\n",
       "3   0.166667  0.833333      70\n",
       "4   0.200000  0.800000     245\n",
       "5   0.222222  0.777778       1\n",
       "6   0.250000  0.750000     444\n",
       "7   0.285714  0.714286      64\n",
       "8   0.333333  0.666667     853\n",
       "9   0.375000  0.625000      23\n",
       "10  0.400000  0.600000     592\n",
       "11  0.428571  0.571429     154\n",
       "12  0.444444  0.555556       3\n",
       "13  0.500000  0.500000     887\n",
       "14  0.555556  0.444444       4\n",
       "15  0.571429  0.428571     111\n",
       "16  0.600000  0.400000     652\n",
       "17  0.625000  0.375000      22\n",
       "18  0.666667  0.333333     931\n",
       "19  0.714286  0.285714      54\n",
       "20  0.750000  0.250000     469\n",
       "21  0.800000  0.200000     220\n",
       "22  0.833333  0.166667      57\n",
       "23  0.857143  0.142857      11\n",
       "24  0.875000  0.125000       4\n",
       "25  1.000000  0.000000     586"
      ]
     },
     "metadata": {},
     "output_type": "display_data"
    }
   ],
   "source": [
    "# filter every second 50% 50% distribution\n",
    "outputs = list(filter(lambda o: o.endswith('filtered.csv'), os.listdir(output_path)))\n",
    "\n",
    "for output in tqdm_notebook(outputs, desc=\"filter density distributions\"):\n",
    "    skip = True\n",
    "    skipped = 0\n",
    "    written = 0\n",
    "    with open(os.path.join(output_path, output), \"r\") as full:\n",
    "        with open(os.path.join(output_path, output[:-4] + '_reduced.csv'), \"w\") as filtered:\n",
    "            for line in full:\n",
    "                if line.strip().endswith('0.5000000000;0.5000000000'):\n",
    "                    skip = not(skip)\n",
    "                    \n",
    "                    if skip:\n",
    "                        skipped = skipped + 1\n",
    "                        continue\n",
    "                \n",
    "                filtered.write(line)\n",
    "                written = written + 1\n",
    "\n",
    "    print(written, 'lines written,', skipped, 'lines skipped')\n",
    "    \n",
    "# aggregate distributions\n",
    "outputs = list(filter(lambda o: 'reduced' in o, os.listdir(os.path.join(output_path))))\n",
    "dfs = []\n",
    "for output in outputs:\n",
    "    dfs.append(pd.read_csv(os.path.join(\n",
    "        output_path, output), sep=';', header=None))\n",
    "\n",
    "frame = pd.concat([df.iloc[:, -2:] for df in dfs], sort=False)\n",
    "print(frame.shape)\n",
    "frame = frame.groupby(list(frame.columns), as_index=False).size().to_frame(\n",
    "    'frames').reset_index()\n",
    "\n",
    "display(frame)"
   ]
  },
  {
   "cell_type": "markdown",
   "metadata": {},
   "source": [
    "# Plot density maps to file"
   ]
  },
  {
   "cell_type": "code",
   "execution_count": 7,
   "metadata": {
    "ExecuteTime": {
     "end_time": "2019-08-22T13:24:25.654167Z",
     "start_time": "2019-08-22T13:16:20.803462Z"
    },
    "code_folding": [],
    "scrolled": true
   },
   "outputs": [
    {
     "data": {
      "application/vnd.jupyter.widget-view+json": {
       "model_id": "a033c8d4370441848f85c339cd37fce9",
       "version_major": 2,
       "version_minor": 0
      },
      "text/plain": [
       "HBox(children=(IntProgress(value=0, max=21), HTML(value='')))"
      ]
     },
     "metadata": {},
     "output_type": "display_data"
    },
    {
     "name": "stderr",
     "output_type": "stream",
     "text": [
      "                                                                                                                       \r"
     ]
    },
    {
     "name": "stdout",
     "output_type": "stream",
     "text": [
      "Done ORG-KO-240-050-240_2019-06-10_19-37-23.864_filtered_reduced.csv\n"
     ]
    },
    {
     "name": "stderr",
     "output_type": "stream",
     "text": [
      "                                                                                                                       \r"
     ]
    },
    {
     "name": "stdout",
     "output_type": "stream",
     "text": [
      "Done ORG-KO-240-050-240_2019-06-28_19-17-42.661_filtered_reduced.csv\n"
     ]
    },
    {
     "name": "stderr",
     "output_type": "stream",
     "text": [
      "                                                                                                                       \r"
     ]
    },
    {
     "name": "stdout",
     "output_type": "stream",
     "text": [
      "Done ORG-KO-240-050-240_2019-06-28_19-26-52.509_filtered_reduced.csv\n"
     ]
    },
    {
     "name": "stderr",
     "output_type": "stream",
     "text": [
      "                                                                                                                       \r"
     ]
    },
    {
     "name": "stdout",
     "output_type": "stream",
     "text": [
      "Done ORG-KO-240-060-240_2019-06-10_19-38-06.167_filtered_reduced.csv\n"
     ]
    },
    {
     "name": "stderr",
     "output_type": "stream",
     "text": [
      "                                                                                                                       \r"
     ]
    },
    {
     "name": "stdout",
     "output_type": "stream",
     "text": [
      "Done ORG-KO-240-060-240_2019-06-28_19-18-23.76_filtered_reduced.csv\n"
     ]
    },
    {
     "name": "stderr",
     "output_type": "stream",
     "text": [
      "                                                                                                                       \r"
     ]
    },
    {
     "name": "stdout",
     "output_type": "stream",
     "text": [
      "Done ORG-KO-240-060-240_2019-06-28_19-27-35.805_filtered_reduced.csv\n"
     ]
    },
    {
     "name": "stderr",
     "output_type": "stream",
     "text": [
      "                                                                                                                       \r"
     ]
    },
    {
     "name": "stdout",
     "output_type": "stream",
     "text": [
      "Done ORG-KO-240-080-240_2019-06-10_19-38-44.260_filtered_reduced.csv\n"
     ]
    },
    {
     "name": "stderr",
     "output_type": "stream",
     "text": [
      "                                                                                                                       \r"
     ]
    },
    {
     "name": "stdout",
     "output_type": "stream",
     "text": [
      "Done ORG-KO-240-080-240_2019-06-28_19-19-01.83_filtered_reduced.csv\n"
     ]
    },
    {
     "name": "stderr",
     "output_type": "stream",
     "text": [
      "                                                                                                                       \r"
     ]
    },
    {
     "name": "stdout",
     "output_type": "stream",
     "text": [
      "Done ORG-KO-240-080-240_2019-06-28_19-28-16.408_filtered_reduced.csv\n"
     ]
    },
    {
     "name": "stderr",
     "output_type": "stream",
     "text": [
      "                                                                                                                       \r"
     ]
    },
    {
     "name": "stdout",
     "output_type": "stream",
     "text": [
      "Done ORG-KO-240-100-240_2019-06-10_19-39-52.891_filtered_reduced.csv\n"
     ]
    },
    {
     "name": "stderr",
     "output_type": "stream",
     "text": [
      "                                                                                                                       \r"
     ]
    },
    {
     "name": "stdout",
     "output_type": "stream",
     "text": [
      "Done ORG-KO-240-100-240_2019-06-28_19-20-11.545_filtered_reduced.csv\n"
     ]
    },
    {
     "name": "stderr",
     "output_type": "stream",
     "text": [
      "                                                                                                                       \r"
     ]
    },
    {
     "name": "stdout",
     "output_type": "stream",
     "text": [
      "Done ORG-KO-240-100-240_2019-06-28_19-29-28.361_filtered_reduced.csv\n"
     ]
    },
    {
     "name": "stderr",
     "output_type": "stream",
     "text": [
      "                                                                                                                       \r"
     ]
    },
    {
     "name": "stdout",
     "output_type": "stream",
     "text": [
      "Done ORG-KO-240-120-240_2019-06-10_19-40-51.905_filtered_reduced.csv\n"
     ]
    },
    {
     "name": "stderr",
     "output_type": "stream",
     "text": [
      "                                                                                                                       \r"
     ]
    },
    {
     "name": "stdout",
     "output_type": "stream",
     "text": [
      "Done ORG-KO-240-120-240_2019-06-28_19-21-11.141_filtered_reduced.csv\n"
     ]
    },
    {
     "name": "stderr",
     "output_type": "stream",
     "text": [
      "                                                                                                                       \r"
     ]
    },
    {
     "name": "stdout",
     "output_type": "stream",
     "text": [
      "Done ORG-KO-240-120-240_2019-06-28_19-30-30.488_filtered_reduced.csv\n"
     ]
    },
    {
     "name": "stderr",
     "output_type": "stream",
     "text": [
      "                                                                                                                       \r"
     ]
    },
    {
     "name": "stdout",
     "output_type": "stream",
     "text": [
      "Done ORG-KO-240-150-240_2019-06-10_19-42-36.540_filtered_reduced.csv\n"
     ]
    },
    {
     "name": "stderr",
     "output_type": "stream",
     "text": [
      "                                                                                                                       \r"
     ]
    },
    {
     "name": "stdout",
     "output_type": "stream",
     "text": [
      "Done ORG-KO-240-150-240_2019-06-28_19-22-59.7_filtered_reduced.csv\n"
     ]
    },
    {
     "name": "stderr",
     "output_type": "stream",
     "text": [
      "                                                                                                                       \r"
     ]
    },
    {
     "name": "stdout",
     "output_type": "stream",
     "text": [
      "Done ORG-KO-240-150-240_2019-06-28_19-32-21.415_filtered_reduced.csv\n"
     ]
    },
    {
     "name": "stderr",
     "output_type": "stream",
     "text": [
      "                                                                                                                       \r"
     ]
    },
    {
     "name": "stdout",
     "output_type": "stream",
     "text": [
      "Done ORG-KO-240-240-240_2019-04-24_17-43-58.231_filtered_reduced.csv\n"
     ]
    },
    {
     "name": "stderr",
     "output_type": "stream",
     "text": [
      "                                                                                                                       \r"
     ]
    },
    {
     "name": "stdout",
     "output_type": "stream",
     "text": [
      "Done ORG-KO-240-240-240_2019-06-28_19-24-47.252_filtered_reduced.csv\n"
     ]
    },
    {
     "name": "stderr",
     "output_type": "stream",
     "text": [
      "                                                                                                                       \r"
     ]
    },
    {
     "name": "stdout",
     "output_type": "stream",
     "text": [
      "Done ORG-KO-240-240-240_2019-06-28_19-34-11.853_filtered_reduced.csv\n"
     ]
    }
   ],
   "source": [
    "# save density maps\n",
    "\n",
    "image_directory = \"check/images/obstacle\"\n",
    "\n",
    "if not os.path.isdir(image_directory):\n",
    "    os.mkdir(image_directory)\n",
    "\n",
    "def filter_chunk(chunk):\n",
    "    return chunk.loc[(chunk[231] == 0.5) & (chunk[232] == 0.5)]\n",
    "    \n",
    "outputs = list(filter(lambda o: 'reduced' in o, os.listdir(output_path)))\n",
    "for output in tqdm_notebook(outputs):\n",
    "    plot.processFile(output, output_path, image_directory) # , _filter=filter_chunk"
   ]
  },
  {
   "cell_type": "code",
   "execution_count": null,
   "metadata": {},
   "outputs": [],
   "source": []
  }
 ],
 "metadata": {
  "kernelspec": {
   "display_name": "Python 3",
   "language": "python",
   "name": "python3"
  },
  "language_info": {
   "codemirror_mode": {
    "name": "ipython",
    "version": 3
   },
   "file_extension": ".py",
   "mimetype": "text/x-python",
   "name": "python",
   "nbconvert_exporter": "python",
   "pygments_lexer": "ipython3",
   "version": "3.7.4"
  },
  "toc": {
   "base_numbering": 1,
   "nav_menu": {},
   "number_sections": true,
   "sideBar": true,
   "skip_h1_title": false,
   "title_cell": "Table of Contents",
   "title_sidebar": "Contents",
   "toc_cell": true,
   "toc_position": {},
   "toc_section_display": true,
   "toc_window_display": false
  },
  "varInspector": {
   "cols": {
    "lenName": 16,
    "lenType": 16,
    "lenVar": 40
   },
   "kernels_config": {
    "python": {
     "delete_cmd_postfix": "",
     "delete_cmd_prefix": "del ",
     "library": "var_list.py",
     "varRefreshCmd": "print(var_dic_list())"
    },
    "r": {
     "delete_cmd_postfix": ") ",
     "delete_cmd_prefix": "rm(",
     "library": "var_list.r",
     "varRefreshCmd": "cat(var_dic_list()) "
    }
   },
   "types_to_exclude": [
    "module",
    "function",
    "builtin_function_or_method",
    "instance",
    "_Feature"
   ],
   "window_display": false
  }
 },
 "nbformat": 4,
 "nbformat_minor": 2
}

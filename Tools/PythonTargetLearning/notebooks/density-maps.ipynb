{
 "cells": [
  {
   "cell_type": "markdown",
   "metadata": {
    "toc": true
   },
   "source": [
    "<h1>Table of Contents<span class=\"tocSkip\"></span></h1>\n",
    "<div class=\"toc\"><ul class=\"toc-item\"></ul></div>"
   ]
  },
  {
   "cell_type": "code",
   "execution_count": 2,
   "metadata": {},
   "outputs": [
    {
     "name": "stdout",
     "output_type": "stream",
     "text": [
      "The autoreload extension is already loaded. To reload it, use:\n",
      "  %reload_ext autoreload\n"
     ]
    }
   ],
   "source": [
    "import pandas as pd\n",
    "import os\n",
    "import numpy as np\n",
    "from matplotlib import pyplot as plt\n",
    "from tqdm import tqdm_notebook\n",
    "\n",
    "%load_ext autoreload\n",
    "%aimport plotting"
   ]
  },
  {
   "cell_type": "code",
   "execution_count": 3,
   "metadata": {},
   "outputs": [],
   "source": [
    "input_directory = \"check/input/\";\n",
    "image_directory = \"check/images/\";\n",
    "files = list(sorted(filter(lambda x: x.endswith(\".csv\"), os.listdir(input_directory))))\n",
    "\n",
    "if not os.path.isdir(image_directory):\n",
    "    os.mkdir(image_directory)"
   ]
  },
  {
   "cell_type": "code",
   "execution_count": null,
   "metadata": {},
   "outputs": [],
   "source": [
    "def processFile(file, n_targets=3):\n",
    "    df = pd.read_csv(open(os.path.join(input_directory, file), 'r'), sep=';', header=None)\n",
    "    dim = int(np.sqrt(df.shape[1] - n_targets))\n",
    "    \n",
    "    path = os.path.join(image_directory, file[:-4])\n",
    "    try:\n",
    "        os.mkdir(path)\n",
    "    except Exception:\n",
    "        print(\"Path\", path, \"already exists\")\n",
    "    \n",
    "    for i, row in df.iterrows():\n",
    "        row = np.array(row)\n",
    "        targets = row[-n_targets:]\n",
    "        data = row[:-n_targets]\n",
    "        name = 'density-{0}-{1:.2f}-{2:.2f}-{3:.2f}.png'.format(i, targets[0], targets[1], targets[2])\n",
    "        filepath = os.path.join(path, name)\n",
    "        \n",
    "        if os.path.exists(filepath):\n",
    "            print(\"Skipping\", filepath, 'since it already exits!')\n",
    "            continue\n",
    "            \n",
    "        image = data.reshape((10, 23))\n",
    "        img = plt.imshow(image, interpolation='Nearest')\n",
    "        plt.axis('off')\n",
    "        plt.savefig(filepath, bbox_inches='tight', pad_inches=0)\n",
    "        \n",
    "    print('Done', file)"
   ]
  },
  {
   "cell_type": "code",
   "execution_count": 4,
   "metadata": {},
   "outputs": [
    {
     "data": {
      "application/vnd.jupyter.widget-view+json": {
       "model_id": "b2f0cb46a3ce4d25accde9a253d2a445",
       "version_major": 2,
       "version_minor": 0
      },
      "text/plain": [
       "HBox(children=(IntProgress(value=1, bar_style='info', max=1), HTML(value='')))"
      ]
     },
     "metadata": {},
     "output_type": "display_data"
    },
    {
     "name": "stdout",
     "output_type": "stream",
     "text": [
      "\n"
     ]
    }
   ],
   "source": [
    "for file in tqdm_notebook(files):\n",
    "    print(file)\n",
    "    # plot.processFile(file, input_directory, image_directory);"
   ]
  },
  {
   "cell_type": "code",
   "execution_count": null,
   "metadata": {},
   "outputs": [],
   "source": []
  }
 ],
 "metadata": {
  "kernelspec": {
   "display_name": "Python 3",
   "language": "python",
   "name": "python3"
  },
  "language_info": {
   "codemirror_mode": {
    "name": "ipython",
    "version": 3
   },
   "file_extension": ".py",
   "mimetype": "text/x-python",
   "name": "python",
   "nbconvert_exporter": "python",
   "pygments_lexer": "ipython3",
   "version": "3.7.3"
  },
  "toc": {
   "base_numbering": 1,
   "nav_menu": {},
   "number_sections": true,
   "sideBar": true,
   "skip_h1_title": false,
   "title_cell": "Table of Contents",
   "title_sidebar": "Contents",
   "toc_cell": true,
   "toc_position": {},
   "toc_section_display": true,
   "toc_window_display": false
  }
 },
 "nbformat": 4,
 "nbformat_minor": 2
}

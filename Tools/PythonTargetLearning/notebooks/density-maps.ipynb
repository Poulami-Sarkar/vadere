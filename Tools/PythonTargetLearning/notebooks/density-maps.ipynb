{
 "cells": [
  {
   "cell_type": "code",
   "execution_count": 1,
   "metadata": {},
   "outputs": [],
   "source": [
    "import pandas as pd\n",
    "import os\n",
    "import numpy as np\n",
    "from matplotlib import pyplot as plt\n",
    "from tqdm import tqdm_notebook\n",
    "\n",
    "%load_ext autoreload\n",
    "%aimport plot"
   ]
  },
  {
   "cell_type": "code",
   "execution_count": 3,
   "metadata": {},
   "outputs": [],
   "source": [
    "input_directory = \"juelich-vadere/output_01/\";\n",
    "image_directory = \"juelich-vadere/images_01/\";\n",
    "files = list(sorted(filter(lambda x: x.endswith(\".csv\"), os.listdir(input_directory))))\n",
    "\n",
    "if not os.path.isdir(image_directory):\n",
    "    os.mkdir(image_directory)"
   ]
  },
  {
   "cell_type": "code",
   "execution_count": 4,
   "metadata": {},
   "outputs": [],
   "source": [
    "def processFile(file, n_targets=3):\n",
    "    df = pd.read_csv(open(os.path.join(input_directory, file), 'r'), sep=';', header=None)\n",
    "    dim = int(np.sqrt(df.shape[1] - n_targets))\n",
    "    \n",
    "    path = os.path.join(image_directory, file[:-4])\n",
    "    try:\n",
    "        os.mkdir(path)\n",
    "    except Exception:\n",
    "        print(\"Path\", path, \"already exists\")\n",
    "    \n",
    "    for i, row in df.iterrows():\n",
    "        row = np.array(row)\n",
    "        targets = row[-n_targets:]\n",
    "        data = row[:-n_targets]\n",
    "        name = 'density-{0}-{1:.2f}-{2:.2f}-{3:.2f}.png'.format(i, targets[0], targets[1], targets[2])\n",
    "        filepath = os.path.join(path, name)\n",
    "        \n",
    "        if os.path.exists(filepath):\n",
    "            print(\"Skipping\", filepath, 'since it already exits!')\n",
    "            continue\n",
    "            \n",
    "        image = data.reshape((10, 23))\n",
    "        img = plt.imshow(image, interpolation='Nearest')\n",
    "        plt.axis('off')\n",
    "        plt.savefig(filepath, bbox_inches='tight', pad_inches=0)\n",
    "        \n",
    "    print('Done', file)"
   ]
  },
  {
   "cell_type": "code",
   "execution_count": 6,
   "metadata": {},
   "outputs": [
    {
     "data": {
      "application/vnd.jupyter.widget-view+json": {
       "model_id": "8b8d8ab100c84e2fb182a4bf431f15d5",
       "version_major": 2,
       "version_minor": 0
      },
      "text/plain": [
       "HBox(children=(IntProgress(value=0, max=7), HTML(value='')))"
      ]
     },
     "metadata": {},
     "output_type": "display_data"
    },
    {
     "name": "stdout",
     "output_type": "stream",
     "text": [
      "Path juelich-vadere/images_01/KO-240-050-240_2019-03-20_14-47-17.935 already exists\n",
      "using 1 processor\n"
     ]
    },
    {
     "name": "stderr",
     "output_type": "stream",
     "text": [
      "                                                                                                                                                                            \r"
     ]
    },
    {
     "name": "stdout",
     "output_type": "stream",
     "text": [
      "Done KO-240-050-240_2019-03-20_14-47-17.935.csv\n",
      "using 1 processor\n"
     ]
    },
    {
     "name": "stderr",
     "output_type": "stream",
     "text": [
      "                                                                                                                                                                            \r"
     ]
    },
    {
     "name": "stdout",
     "output_type": "stream",
     "text": [
      "Done KO-240-060-240_2019-03-20_14-47-26.745.csv\n",
      "using 1 processor\n"
     ]
    },
    {
     "name": "stderr",
     "output_type": "stream",
     "text": [
      "                                                                                                                                                                            \r"
     ]
    },
    {
     "name": "stdout",
     "output_type": "stream",
     "text": [
      "Done KO-240-080-240_2019-03-20_14-47-34.423.csv\n",
      "using 1 processor\n"
     ]
    },
    {
     "name": "stderr",
     "output_type": "stream",
     "text": [
      "                                                                                                                                                                            \r"
     ]
    },
    {
     "name": "stdout",
     "output_type": "stream",
     "text": [
      "Done KO-240-100-240_2019-03-20_14-47-43.993.csv\n",
      "using 1 processor\n"
     ]
    },
    {
     "name": "stderr",
     "output_type": "stream",
     "text": [
      "                                                                                                                                                                            \r"
     ]
    },
    {
     "name": "stdout",
     "output_type": "stream",
     "text": [
      "Done KO-240-120-240_2019-03-20_14-47-53.647.csv\n",
      "using 1 processor\n"
     ]
    },
    {
     "name": "stderr",
     "output_type": "stream",
     "text": [
      "                                                                                                                                                                            \r"
     ]
    },
    {
     "name": "stdout",
     "output_type": "stream",
     "text": [
      "Done KO-240-150-240_2019-03-20_14-48-07.35.csv\n",
      "using 1 processor\n"
     ]
    },
    {
     "name": "stderr",
     "output_type": "stream",
     "text": [
      "                                                                                                                                                                            \r"
     ]
    },
    {
     "name": "stdout",
     "output_type": "stream",
     "text": [
      "Done KO-240-240-240_2019-03-20_14-48-20.251.csv\n",
      "\n"
     ]
    }
   ],
   "source": [
    "for file in tqdm_notebook(files):\n",
    "    plot.processFile(file, input_directory, image_directory);"
   ]
  },
  {
   "cell_type": "code",
   "execution_count": null,
   "metadata": {},
   "outputs": [],
   "source": []
  }
 ],
 "metadata": {
  "kernelspec": {
   "display_name": "Python 3",
   "language": "python",
   "name": "python3"
  },
  "language_info": {
   "codemirror_mode": {
    "name": "ipython",
    "version": 3
   },
   "file_extension": ".py",
   "mimetype": "text/x-python",
   "name": "python",
   "nbconvert_exporter": "python",
   "pygments_lexer": "ipython3",
   "version": "3.7.1"
  }
 },
 "nbformat": 4,
 "nbformat_minor": 2
}
